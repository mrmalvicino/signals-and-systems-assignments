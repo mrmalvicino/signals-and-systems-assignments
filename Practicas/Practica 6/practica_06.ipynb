{
 "cells": [
  {
   "cell_type": "markdown",
   "id": "light-collection",
   "metadata": {},
   "source": [
    "## UnTref\n",
    "## Señales y Sistemas\n",
    "\n",
    "# Práctica 5: Respuesta en Frecuencia - Filtros analógicos\n",
    "\n"
   ]
  },
  {
   "cell_type": "markdown",
   "id": "talented-cameroon",
   "metadata": {},
   "source": [
    "**OBJETIVO**: En esta práctica se pretende reforzar el concepto de Respuesta en Frecuencia de un sistema y su efecto sobre la señal de entrada al mismo. Particularmente, se estudiarán los sistemas denominados filtros como dispositivos selectivos en frecuencia.\n",
    "\n",
    "**OBJETIVOS ESPECÍFICOS**: \n",
    "* Diseño de diversos tipos de filtros a fin de conocer las características más relevantes como la magnitud y fase de la Respuesta en Frecuencia y la respuesta impulsiva de estos sistemas.\n",
    "* Alimentar los filtros con señales de diverso tipo, para comprender mejor lo que representa la selectividad de frecuencia de los filtros\n"
   ]
  },
  {
   "cell_type": "markdown",
   "id": "signal-trustee",
   "metadata": {},
   "source": [
    "### Parte 1: Adquisición de señal\n",
    "\n",
    "Cargar una señal de voz y graficar la magnitud de su respuesta en frecuencia. Recordar que se creó una función para esto mismo en la práctica anterior.\n"
   ]
  },
  {
   "cell_type": "code",
   "execution_count": 1,
   "id": "848ee37c",
   "metadata": {},
   "outputs": [],
   "source": [
    "# Completar"
   ]
  },
  {
   "cell_type": "markdown",
   "id": "juvenile-electronics",
   "metadata": {},
   "source": [
    "### Parte 2: Diseño de filtros\n",
    "\n",
    "A partir de lo visto en la sección teórica, diseñar funciones que generen diferentes filtros en función de su tipo y de la porción del espectro frecuencial que modifica. Se deben crear 4 funciones en total, cada una implementando uno de los siguientes tipos de filtro:\n",
    "\n",
    "- Butterworth\n",
    "- Chebyshev I\n",
    "- Chebyshev II\n",
    "- Elíptico\n",
    "\n",
    "A su vez, cada uno de estos filtros debe poder ser configurado para generar los siguientes filtros:\n",
    "\n",
    "- Filtro pasa bajos (Low-pass filter)\n",
    "- Filtro pasa altos (High-pass filter)\n",
    "- Filtro pasa banda (Band-pas filter)\n",
    "- Filtro rechaza banda (Band-stop filter)\n",
    "\n",
    "Se deben poder definir las frecuencias de importancia para cada uno de los filtros (frecuencia de corte o frecuencias de paso)."
   ]
  },
  {
   "cell_type": "code",
   "execution_count": 2,
   "id": "awful-curve",
   "metadata": {},
   "outputs": [],
   "source": [
    "# Completar"
   ]
  },
  {
   "cell_type": "markdown",
   "id": "unavailable-salmon",
   "metadata": {},
   "source": [
    "### Parte 3: Implementación de filtros\n",
    "\n",
    "Pruebe diferentes filtros, graficando la magnitud y fase de su respuesta en frecuencia. "
   ]
  },
  {
   "cell_type": "code",
   "execution_count": null,
   "id": "dbe0b1f5",
   "metadata": {},
   "outputs": [],
   "source": [
    "# Completar"
   ]
  },
  {
   "cell_type": "markdown",
   "id": "d27f6935",
   "metadata": {},
   "source": [
    "Aplícar los filtros generados sobre la señal grabada utilizando la función `lfilter`. Graficar en diferentes subplots la magnitud de la respuesta en frecuencia de la señal original y la filtrada."
   ]
  },
  {
   "cell_type": "code",
   "execution_count": 3,
   "id": "desirable-sight",
   "metadata": {},
   "outputs": [],
   "source": [
    "# Completar"
   ]
  }
 ],
 "metadata": {
  "interpreter": {
   "hash": "4e6dd2c17f37696e197ccd50b756f8a488129710fecb68d6e76383442eb37365"
  },
  "kernelspec": {
   "display_name": "Python 3.8.5 ('sato2')",
   "language": "python",
   "name": "python3"
  },
  "language_info": {
   "codemirror_mode": {
    "name": "ipython",
    "version": 3
   },
   "file_extension": ".py",
   "mimetype": "text/x-python",
   "name": "python",
   "nbconvert_exporter": "python",
   "pygments_lexer": "ipython3",
   "version": "3.8.5"
  }
 },
 "nbformat": 4,
 "nbformat_minor": 5
}

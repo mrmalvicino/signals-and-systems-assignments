{
 "cells": [
  {
   "cell_type": "code",
   "execution_count": 1,
   "id": "e76912c1",
   "metadata": {},
   "outputs": [],
   "source": [
    "import matplotlib.pyplot as plt\n",
    "import numpy as np"
   ]
  },
  {
   "cell_type": "markdown",
   "id": "bd753a5c",
   "metadata": {},
   "source": [
    "## Numpy arrays\n",
    "\n",
    "### Tipos de datos\n",
    "\n",
    "Los **argumentos** que se deben indicar para crear el array son dos: los **elementos que contendrá**, que se ingresan en forma de lista, y el **tipo de datos** que tendrá la lista. En los ejemplos anteriores no especificamos el tipo de datos, ya que éste se asigna automáticamente al crear la lista. No obstante, es recomendable indicarlo siempre ya que cada tipo de datos ocupa un espacio en memoria distinto.\n",
    "\n",
    "Los tipos de datos que podemos utilizar dentro de un array son los siguientes:\n",
    "* **Números enteros** de 8, 16, 32 y 64 bits, con signo y sin signo.\n",
    "* **Números complejos** de 64 y 128 bits.\n",
    "* **Números de punto flotante** de 16, 32, 64 y 128 bits\n",
    "* **Booleanos** (‘True’ o ‘False’), **strings**, **bytes...**"
   ]
  },
  {
   "cell_type": "code",
   "execution_count": 2,
   "id": "a5375d28",
   "metadata": {},
   "outputs": [
    {
     "name": "stdout",
     "output_type": "stream",
     "text": [
      "range(0, 10)\n"
     ]
    }
   ],
   "source": [
    "nums = range(0,10)\n",
    "print(nums)\n",
    "a = np.array(nums)"
   ]
  },
  {
   "cell_type": "code",
   "execution_count": 3,
   "id": "cf777caa",
   "metadata": {},
   "outputs": [
    {
     "data": {
      "text/plain": [
       "dtype('int64')"
      ]
     },
     "execution_count": 3,
     "metadata": {},
     "output_type": "execute_result"
    }
   ],
   "source": [
    "a.dtype "
   ]
  },
  {
   "cell_type": "markdown",
   "id": "essential-joshua",
   "metadata": {},
   "source": [
    "En el caso del array 'a' que creamos anteriormente, el formato que se asigna automáticamente es un entero de 64 bits con signo (int64). Nos resulta conveniente utilizar un formato entero sin signo y de 8 bits, de acuerdo a los datos que contiene. El formato se especifica de la siguiente forma:"
   ]
  },
  {
   "cell_type": "code",
   "execution_count": 4,
   "id": "metropolitan-mother",
   "metadata": {},
   "outputs": [
    {
     "data": {
      "text/plain": [
       "array([1, 2, 5, 9], dtype=uint8)"
      ]
     },
     "execution_count": 4,
     "metadata": {},
     "output_type": "execute_result"
    }
   ],
   "source": [
    "b = np.array([1,2,5,9], dtype = np.uint8)\n",
    "\n",
    "# la consola nos muestra el array\n",
    "b"
   ]
  },
  {
   "cell_type": "code",
   "execution_count": 5,
   "id": "a21e1f8d",
   "metadata": {},
   "outputs": [
    {
     "data": {
      "text/plain": [
       "dtype('uint8')"
      ]
     },
     "execution_count": 5,
     "metadata": {},
     "output_type": "execute_result"
    }
   ],
   "source": [
    "b.dtype"
   ]
  },
  {
   "cell_type": "markdown",
   "id": "textile-suffering",
   "metadata": {},
   "source": [
    "### Tamaño y dimensiones de un array\n",
    "\n",
    "Los ejemplos mencionados hasta ahora han sido de arrays de dimensiones $1 x N$. Podemos crear **arrays de varias dimensiones** de la siguiente manera:"
   ]
  },
  {
   "cell_type": "code",
   "execution_count": 6,
   "id": "homeless-fountain",
   "metadata": {},
   "outputs": [],
   "source": [
    "# array de dimensiones (2,3) y tamaño 6\n",
    "b = np.array([[1,2,3],[3,2,1]], dtype = np.uint8)\n",
    "\n",
    "# array de tres dimensiones y tamaño igual a 2\n",
    "c = np.array([[1,-1],[0,1],[-5,2]])"
   ]
  },
  {
   "cell_type": "code",
   "execution_count": 7,
   "id": "2f54d128",
   "metadata": {},
   "outputs": [
    {
     "data": {
      "text/plain": [
       "array([[1, 2, 3],\n",
       "       [3, 2, 1]], dtype=uint8)"
      ]
     },
     "execution_count": 7,
     "metadata": {},
     "output_type": "execute_result"
    }
   ],
   "source": [
    "b"
   ]
  },
  {
   "cell_type": "code",
   "execution_count": 8,
   "id": "d97b127c",
   "metadata": {},
   "outputs": [
    {
     "data": {
      "text/plain": [
       "array([[ 1, -1],\n",
       "       [ 0,  1],\n",
       "       [-5,  2]])"
      ]
     },
     "execution_count": 8,
     "metadata": {},
     "output_type": "execute_result"
    }
   ],
   "source": [
    "c "
   ]
  },
  {
   "cell_type": "code",
   "execution_count": 9,
   "id": "8b83c239",
   "metadata": {},
   "outputs": [
    {
     "data": {
      "text/plain": [
       "(2, 3)"
      ]
     },
     "execution_count": 9,
     "metadata": {},
     "output_type": "execute_result"
    }
   ],
   "source": [
    "b.shape"
   ]
  },
  {
   "cell_type": "code",
   "execution_count": 10,
   "id": "c6db71ac",
   "metadata": {},
   "outputs": [
    {
     "data": {
      "text/plain": [
       "(3, 2)"
      ]
     },
     "execution_count": 10,
     "metadata": {},
     "output_type": "execute_result"
    }
   ],
   "source": [
    "c.shape"
   ]
  },
  {
   "cell_type": "code",
   "execution_count": 11,
   "id": "e4de0e44",
   "metadata": {},
   "outputs": [
    {
     "data": {
      "text/plain": [
       "6"
      ]
     },
     "execution_count": 11,
     "metadata": {},
     "output_type": "execute_result"
    }
   ],
   "source": [
    "b.size"
   ]
  },
  {
   "cell_type": "code",
   "execution_count": 12,
   "id": "0587bf9e",
   "metadata": {},
   "outputs": [
    {
     "data": {
      "text/plain": [
       "6"
      ]
     },
     "execution_count": 12,
     "metadata": {},
     "output_type": "execute_result"
    }
   ],
   "source": [
    "c.size"
   ]
  },
  {
   "cell_type": "markdown",
   "id": "great-interim",
   "metadata": {},
   "source": [
    "El **tamaño** representa la cantidad de elementos que posee el array. Su valor, y el de las dimensiones de un array, se pueden obtener de la siguiente manera: "
   ]
  },
  {
   "cell_type": "code",
   "execution_count": 13,
   "id": "outdoor-rally",
   "metadata": {},
   "outputs": [
    {
     "name": "stdout",
     "output_type": "stream",
     "text": [
      "numero de filas :2\n",
      "numero de columnas: 3\n",
      "Tamaño del array: 6\n"
     ]
    }
   ],
   "source": [
    "# devuelve la forma de un array, de la siguiente forma (n° de filas, n° de columnas) ---> feliz cumple! \n",
    "(dim1, dim2) = b.shape\n",
    "\n",
    "#tamaño del array\n",
    "tamaño = b.size\n",
    "\n",
    "print(f'numero de filas :{dim1}\\nnumero de columnas: {dim2}')\n",
    "print(f'Tamaño del array: {tamaño}')"
   ]
  },
  {
   "cell_type": "markdown",
   "id": "selected-bride",
   "metadata": {},
   "source": [
    "## Indizado en arrays\n",
    "\n",
    "Los **índices** se utilizan para indicar la posición de cada elemento de un array. De esta manera, podemos acceder al valor de una posición específica o extraer el valor de un grupo de elementos. Cada elemento posee una posición $[i,j]$, donde $i$ representa el número de fila y $j$ representa el número  de columna en que se ubica."
   ]
  },
  {
   "cell_type": "code",
   "execution_count": 14,
   "id": "b0081aee",
   "metadata": {},
   "outputs": [
    {
     "data": {
      "text/plain": [
       "array([[ 1, -1],\n",
       "       [ 0,  1],\n",
       "       [-5,  2]])"
      ]
     },
     "execution_count": 14,
     "metadata": {},
     "output_type": "execute_result"
    }
   ],
   "source": [
    "c"
   ]
  },
  {
   "cell_type": "code",
   "execution_count": 15,
   "id": "desirable-maldives",
   "metadata": {},
   "outputs": [
    {
     "name": "stdout",
     "output_type": "stream",
     "text": [
      "2\n",
      "-5\n"
     ]
    }
   ],
   "source": [
    "# devuelve el elemento de la posición [1,2] del array 'a', igual a 2.\n",
    "print(b[1,1])\n",
    "\n",
    "# devuelve el elemento de la posición [2,0] del array 'b', igual a -5.\n",
    "print(c[2,0])"
   ]
  },
  {
   "cell_type": "markdown",
   "id": "pending-occurrence",
   "metadata": {},
   "source": [
    "Es importante tener en cuenta que los índices que se asignan se inician desde 0, por lo que si tengo 4 elementos, sus índices irán del rango de 0 a 3.\n",
    "Podemos **desplazarnos** dentro de una array, y **seleccionar** un rango de elementos utilizando la notación *[i: j: k]*, donde 'i' representa el índice a partir del cual nos desplazamos, 'j' es el índice en el cual nos detenemos y 'k' es el paso con el cual nos desplazamos a los elementos subsiguientes. "
   ]
  },
  {
   "cell_type": "code",
   "execution_count": 16,
   "id": "25fd8b94",
   "metadata": {},
   "outputs": [],
   "source": [
    "s = [0, 0.5, 1, 1.5, 2, 2.5, 3, 3.5, 4, 4.5] \n",
    "sec = np.array(s, dtype = np.float16)"
   ]
  },
  {
   "cell_type": "code",
   "execution_count": 17,
   "id": "ca15804c",
   "metadata": {},
   "outputs": [
    {
     "data": {
      "text/plain": [
       "(10,)"
      ]
     },
     "execution_count": 17,
     "metadata": {},
     "output_type": "execute_result"
    }
   ],
   "source": [
    "sec.shape"
   ]
  },
  {
   "cell_type": "code",
   "execution_count": 18,
   "id": "e95c8287",
   "metadata": {},
   "outputs": [
    {
     "name": "stdout",
     "output_type": "stream",
     "text": [
      "[0. 1. 2. 3.]\n"
     ]
    }
   ],
   "source": [
    "# desplazamiento a partir del 1° elemento, hasta el 8° (no inclusive), \n",
    "# en pasos de cada 2 elementos\n",
    "print(sec[0:8:2])"
   ]
  },
  {
   "cell_type": "code",
   "execution_count": 19,
   "id": "67ff4da7",
   "metadata": {},
   "outputs": [
    {
     "name": "stdout",
     "output_type": "stream",
     "text": [
      "[0.  0.5 1.  1.5 2.  2.5 3.  3.5]\n"
     ]
    }
   ],
   "source": [
    "# desplazamiento entre las mismas posiciones en pasos de a 1\n",
    "print(sec[:8])"
   ]
  },
  {
   "cell_type": "code",
   "execution_count": 20,
   "id": "be3df013",
   "metadata": {},
   "outputs": [
    {
     "name": "stdout",
     "output_type": "stream",
     "text": [
      "[2.5 3.  3.5 4. ]\n"
     ]
    }
   ],
   "source": [
    "# desplazamiento desde la posición n-5 hasta la posición 9, siendo n la cantidad de elementos.\n",
    "print(sec[-5:9])"
   ]
  },
  {
   "cell_type": "code",
   "execution_count": 21,
   "id": "70353a6e",
   "metadata": {},
   "outputs": [
    {
     "name": "stdout",
     "output_type": "stream",
     "text": [
      "[1.5 2.  2.5 3.  3.5 4.  4.5]\n"
     ]
    }
   ],
   "source": [
    "# desplazamiento desde la posición 4 hasta el final del array\n",
    "print(sec[3:])"
   ]
  },
  {
   "cell_type": "code",
   "execution_count": 22,
   "id": "315676c2",
   "metadata": {},
   "outputs": [
    {
     "name": "stdout",
     "output_type": "stream",
     "text": [
      "[1.5 3.  4.5]\n"
     ]
    }
   ],
   "source": [
    "# desplazamiento desde la posición 4 hasta el final del array en pasos de a tres\n",
    "print(sec[3::3])"
   ]
  },
  {
   "cell_type": "code",
   "execution_count": 23,
   "id": "addressed-borough",
   "metadata": {},
   "outputs": [
    {
     "name": "stdout",
     "output_type": "stream",
     "text": [
      "[0. 1. 2.]\n"
     ]
    }
   ],
   "source": [
    "# desplazamiento desde el comienzo hasta la posición 6 en pasos de a 2\n",
    "print(sec[:6:2])"
   ]
  },
  {
   "cell_type": "code",
   "execution_count": 24,
   "id": "7022a5e3",
   "metadata": {},
   "outputs": [
    {
     "name": "stdout",
     "output_type": "stream",
     "text": [
      "[4.5 4.  3.5 3.  2.5 2.  1.5 1.  0.5 0. ]\n"
     ]
    }
   ],
   "source": [
    "# desplazamiento hacia atras?\n",
    "print(sec[-1::-1])"
   ]
  },
  {
   "cell_type": "markdown",
   "id": "polyphonic-slovakia",
   "metadata": {},
   "source": [
    "Como se puede ver en el ejemplo, tenemos varias opciones para desplazarnos de distintas maneras. Es posible ir hacia adelante, atrás e indicar las posiciones inicial y final con respecto a al tamaño del array. Notemos que el elemento $j$, que indica el fin del desplazamiento, no se incluye en el resultado. Es decir, el resultado nos arroja los **elementos desde $i$ hasta $j-1$**.\n",
    "\n",
    "Para el caso de **matrices**, el desplazamiento es similar, contando con algunas opciones adicionales. Veamos algunos casos."
   ]
  },
  {
   "cell_type": "code",
   "execution_count": 25,
   "id": "b7ce5d36",
   "metadata": {},
   "outputs": [
    {
     "data": {
      "text/plain": [
       "array([[ 0,  1,  1],\n",
       "       [ 2,  3,  5],\n",
       "       [ 8, 13, 21]], dtype=uint8)"
      ]
     },
     "execution_count": 25,
     "metadata": {},
     "output_type": "execute_result"
    }
   ],
   "source": [
    "# definimos la misma secuencia, pero en forma de matriz de 3x3\n",
    "fibo_mtx = np.array([[0,1,1],[2,3,5],[8,13,21]], dtype = np.uint8)\n",
    "fibo_mtx"
   ]
  },
  {
   "cell_type": "code",
   "execution_count": 26,
   "id": "given-netherlands",
   "metadata": {},
   "outputs": [
    {
     "name": "stdout",
     "output_type": "stream",
     "text": [
      "[[0 1 1]\n",
      " [2 3 5]] \n",
      "\n",
      "[[0 1]\n",
      " [2 3]] \n",
      "\n",
      "[ 8 13] \n",
      "\n",
      "[[0 1 1]\n",
      " [2 3 5]] \n",
      "\n",
      "[ 1  3 13]\n",
      "[[ 0  1]\n",
      " [ 8 21]] \n",
      "\n"
     ]
    }
   ],
   "source": [
    "# el desplazamiento es ahora entre dimensiones, para ver las dos primeras (filas 0 y 1):\n",
    "print(fibo_mtx[0:2], \"\\n\")\n",
    "\n",
    "# veo elementos de la submatriz de 2x2 (primeras dos filas y dos columnas):\n",
    "print(fibo_mtx[0:2,0:2], \"\\n\")\n",
    "\n",
    "# desplazamiento entre los dos primeros elementos de la 3° fila \n",
    "print(fibo_mtx[2,0:2], \"\\n\")\n",
    "\n",
    "# desplazamiento entre filas:\n",
    "print(fibo_mtx[0:2,0::], \"\\n\")\n",
    "\n",
    "# desplazamiento entre los elementos de la 2° columna \n",
    "print(fibo_mtx[...,1])\n",
    "\n",
    "print(fibo_mtx[::2,::2], \"\\n\")"
   ]
  },
  {
   "cell_type": "markdown",
   "id": "raised-buying",
   "metadata": {},
   "source": [
    "La notación *[i , j, k]* sirve para desplazarnos entre filas de una matriz. Por otra parte, podemos acceder a todos los elementos de una columna o fila con la notación *[..., x]* o *[x, ...]* respectivamente, siendo *x* el índice de la columna o fila en la que nos desplazamos.\n",
    "\n",
    "> **Nota:** Numpy también cuenta con el objeto matrix, que es una subclase del objeto array. La ventaja de usar este objeto es que las operaciones matemáticas son matriciales por defecto, y en un array se hacen elemento a elemento (vamos a este tema en la siguiente sección). A fines prácticos, el array también se puede implementar como matriz, teniendo en consideración lo mencionado anteriormente."
   ]
  },
  {
   "cell_type": "markdown",
   "id": "b401e519",
   "metadata": {},
   "source": [
    "# Indexado condicional vs Numpy Where\n",
    "\n",
    "https://numpy.org/doc/stable/reference/generated/numpy.where.html\n",
    "\n",
    "El indexado condicinoal nos sirve en general cuando queremos relacionar el indexado con una regla aplicada sobre el mismo array que estamos indexando o sobre otro array similar. Se basa en el hecho de que puedo indexar con valores booleanos."
   ]
  },
  {
   "cell_type": "code",
   "execution_count": 7,
   "id": "1c55c48d",
   "metadata": {},
   "outputs": [
    {
     "name": "stdout",
     "output_type": "stream",
     "text": [
      "[0]\n"
     ]
    }
   ],
   "source": [
    "# ejemplo basico\n",
    "import numpy as np\n",
    "import matplotlib.pyplot as plt\n",
    "array = np.array([0,1,2,3,4])\n",
    "print(array[0:1])"
   ]
  },
  {
   "cell_type": "code",
   "execution_count": 8,
   "id": "4b4df3b2",
   "metadata": {},
   "outputs": [
    {
     "name": "stdout",
     "output_type": "stream",
     "text": [
      "[0 3 4]\n"
     ]
    }
   ],
   "source": [
    "# quiero solo el primer elemento\n",
    "indices = np.array([True, False, False, True, True])\n",
    "print(array[indices])"
   ]
  },
  {
   "cell_type": "markdown",
   "id": "a0475009",
   "metadata": {},
   "source": [
    "Estos arrays booleanos los puedo generar con condicionales."
   ]
  },
  {
   "cell_type": "code",
   "execution_count": 9,
   "id": "ab9dc5f1",
   "metadata": {},
   "outputs": [
    {
     "data": {
      "text/plain": [
       "array([False, False, False,  True,  True])"
      ]
     },
     "execution_count": 9,
     "metadata": {},
     "output_type": "execute_result"
    }
   ],
   "source": [
    "array>2"
   ]
  },
  {
   "cell_type": "code",
   "execution_count": 10,
   "id": "5d60385f",
   "metadata": {},
   "outputs": [
    {
     "data": {
      "text/plain": [
       "array([False, False, False,  True, False])"
      ]
     },
     "execution_count": 10,
     "metadata": {},
     "output_type": "execute_result"
    }
   ],
   "source": [
    "array == 3"
   ]
  },
  {
   "cell_type": "markdown",
   "id": "7fe31580",
   "metadata": {},
   "source": [
    "Veamos un ejemplo mas interesante"
   ]
  },
  {
   "cell_type": "code",
   "execution_count": 11,
   "id": "fdf846a5",
   "metadata": {},
   "outputs": [],
   "source": [
    "t = np.arange(0,40)\n",
    "y = np.sin(t/6)"
   ]
  },
  {
   "cell_type": "code",
   "execution_count": 12,
   "id": "78c63791",
   "metadata": {},
   "outputs": [
    {
     "data": {
      "text/plain": [
       "(-1.2, 1.2)"
      ]
     },
     "execution_count": 12,
     "metadata": {},
     "output_type": "execute_result"
    },
    {
     "data": {
      "image/png": "[encoded data removed]",
      "text/plain": [
       "<Figure size 432x288 with 1 Axes>"
      ]
     },
     "metadata": {
      "needs_background": "light"
     },
     "output_type": "display_data"
    }
   ],
   "source": [
    "plt.stem(t,y)\n",
    "plt.ylim(-1.2, 1.2)"
   ]
  },
  {
   "cell_type": "code",
   "execution_count": 19,
   "id": "e5b2d8bc",
   "metadata": {},
   "outputs": [],
   "source": [
    "# quiero llevar a 0 todos los valores positivos de y\n",
    "y_nueva = y.copy()\n",
    "y_nueva[y_nueva>0] = 0"
   ]
  },
  {
   "cell_type": "code",
   "execution_count": 20,
   "id": "c19058fb",
   "metadata": {},
   "outputs": [
    {
     "data": {
      "text/plain": [
       "(-1.2, 1.2)"
      ]
     },
     "execution_count": 20,
     "metadata": {},
     "output_type": "execute_result"
    },
    {
     "data": {
      "image/png": "[encoded data removed]",
      "text/plain": [
       "<Figure size 432x288 with 1 Axes>"
      ]
     },
     "metadata": {
      "needs_background": "light"
     },
     "output_type": "display_data"
    }
   ],
   "source": [
    "plt.stem(t,y_nueva)\n",
    "plt.ylim(-1.2, 1.2)"
   ]
  },
  {
   "cell_type": "markdown",
   "id": "1175bba9",
   "metadata": {},
   "source": [
    "Que estoy usando para indexar?"
   ]
  },
  {
   "cell_type": "code",
   "execution_count": 21,
   "id": "f2dd378c",
   "metadata": {},
   "outputs": [
    {
     "data": {
      "text/plain": [
       "array([False,  True,  True,  True,  True,  True,  True,  True,  True,\n",
       "        True,  True,  True,  True,  True,  True,  True,  True,  True,\n",
       "        True, False, False, False, False, False, False, False, False,\n",
       "       False, False, False, False, False, False, False, False, False,\n",
       "       False, False,  True,  True])"
      ]
     },
     "execution_count": 21,
     "metadata": {},
     "output_type": "execute_result"
    }
   ],
   "source": [
    "y_nueva = y.copy()\n",
    "y_nueva>0"
   ]
  },
  {
   "cell_type": "markdown",
   "id": "826d7e9d",
   "metadata": {},
   "source": [
    "Es un array booleano. AL usarlo para indexar, en los indices en donde haya TRUE, se aplica el cambio, y en donde haya FALSE no.\n",
    "\n",
    "Lo interesante y \"nuevo\" en este punto es el hecho de que puedo generar este array booleano con cualquier vector, no hace falta que sea el mismo que estoy indexando. **La unica condicion que necesito cumplir es que el array booleano que genero y estoy usando para la indexacion tenga la misma longitud que el vector que estoy indexando.** De otra manera, la manera de interpretar los indices seria ambigua."
   ]
  },
  {
   "cell_type": "code",
   "execution_count": 22,
   "id": "22a7cac4",
   "metadata": {},
   "outputs": [
    {
     "data": {
      "text/plain": [
       "(-1.2, 1.2)"
      ]
     },
     "execution_count": 22,
     "metadata": {},
     "output_type": "execute_result"
    },
    {
     "data": {
      "image/png": "[encoded data removed]",
      "text/plain": [
       "<Figure size 432x288 with 1 Axes>"
      ]
     },
     "metadata": {
      "needs_background": "light"
     },
     "output_type": "display_data"
    }
   ],
   "source": [
    "# por ejemplo indexando con el array de tiempo sobre el de amplitud\n",
    "y_nueva = y.copy()\n",
    "y_nueva[(t%2)==0] = 0 # mando a cero (amplitud) los n impares (tiempo)\n",
    "\n",
    "plt.stem(t,y_nueva)\n",
    "plt.ylim(-1.2, 1.2)"
   ]
  },
  {
   "cell_type": "markdown",
   "id": "7139e11d",
   "metadata": {},
   "source": [
    "# y si quiero poner mas de una condicion?\n",
    "Aca entran en juego los conceptos vistos de AND (&) y OR(|). "
   ]
  },
  {
   "cell_type": "code",
   "execution_count": 23,
   "id": "1ea56301",
   "metadata": {},
   "outputs": [
    {
     "data": {
      "text/plain": [
       "(-1.2, 1.2)"
      ]
     },
     "execution_count": 23,
     "metadata": {},
     "output_type": "execute_result"
    },
    {
     "data": {
      "image/png": "[encoded data removed]",
      "text/plain": [
       "<Figure size 432x288 with 1 Axes>"
      ]
     },
     "metadata": {
      "needs_background": "light"
     },
     "output_type": "display_data"
    }
   ],
   "source": [
    "y_nueva = y.copy()\n",
    "y_nueva[((t%2)==1)&((t%5)==0)] = 0 # mando a cero (amplitud) los n impares y multiplos de 5 (tiempo)\n",
    "\n",
    "plt.stem(t,y_nueva)\n",
    "plt.ylim(-1.2, 1.2)"
   ]
  },
  {
   "cell_type": "code",
   "execution_count": 24,
   "id": "18fff90c",
   "metadata": {},
   "outputs": [
    {
     "data": {
      "text/plain": [
       "(-1.2, 1.2)"
      ]
     },
     "execution_count": 24,
     "metadata": {},
     "output_type": "execute_result"
    },
    {
     "data": {
      "image/png": "[encoded data removed]",
      "text/plain": [
       "<Figure size 432x288 with 1 Axes>"
      ]
     },
     "metadata": {
      "needs_background": "light"
     },
     "output_type": "display_data"
    }
   ],
   "source": [
    "y_nueva = y.copy()\n",
    "y_nueva[((t%2)==1)|((t%5)==0)] = 0 # mando a cero (amplitud) los n impares o multiplos de 5 (tiempo)\n",
    "\n",
    "plt.stem(t,y_nueva)\n",
    "plt.ylim(-1.2, 1.2)"
   ]
  },
  {
   "cell_type": "markdown",
   "id": "august-wagner",
   "metadata": {},
   "source": [
    "# [Broadcasting](https://numpy.org/doc/stable/user/basics.broadcasting.html)\n",
    "\n",
    "En primer lugar una aclaracion: En Numpy, el operador '*' realiza la multiplicacion elemento a elemento entre arrays. Para realizar el producto matricial se utiliza el operador '@', aunque comunmente cuando es necesario aplicar esta operacion se emplean funciones de Numpy pensadas para eso, que lo realizan de manera mas eficiente. \n",
    "\n",
    "El termino **broadcasting** describe la manera en la que NumPy maneja los arrays con diferentes dimensiones durante operaciones aritmeticas. Sujeto a ciertas restricciones, en general se busca adaptar el array mas chico al array mas grande de manera de conseguir que ambos tengan dimensiones compatibles. \n",
    "\n",
    "Cuando queremos operar con dos arrays, NumPy compara las dimensiones para ver si son compatibles, de derecha a izquierda. Dos dimensiones son compatibles cuando\n",
    "   - Son iguales entre si\n",
    "   - Una de ellas vale 1\n",
    "\n",
    "En el segundo caso, la operación entre arrays se realiza igualmente, aunque no coincidan en una de sus dimensiones. Mediante el broadcasting, el array más pequeño se replica para poder operar con el más grande. El término alude a cómo Numpy realiza las operaciones con arrays. En español, se podría traducir como 'expansión' ya que describe lo que sucede al operar entre arrays de distintos tamaños, donde **el array más pequeño se expande a lo largo del array más grande** para poder realizar la operación. Esto se hace automáticamente y puede ser aprovechado para realizar operaciones en pocos pasos, sin necesidad de aplicar iteraciones.\n",
    "\n",
    "Si no se cumple ninguna de las dos posibilidades de compatibilidad entre dimensiones, vamos a tener un error del tipo *ValueError: operands could not be broadcast together*.\n",
    "\n",
    "Los arrays no tienen que tener necesariamente el mismo número de dimensiones, ya que dimensiones de tamaño 1 se pueden *estirar* o *copiar* para hacer coincidir el numero de dimensiones.\n",
    "Las dimensiones del array resultante es igual al valor que no es igual a 1 en cada eje. Par entenderlo mejor, veamoslo en codigo! "
   ]
  },
  {
   "cell_type": "code",
   "execution_count": 53,
   "id": "similar-government",
   "metadata": {},
   "outputs": [
    {
     "name": "stdout",
     "output_type": "stream",
     "text": [
      "Shape de t: (4,)\n",
      "Shape de u: (3,)\n"
     ]
    }
   ],
   "source": [
    "# partimos de estos dos vectores\n",
    "t = np.array([1,2,3,4], dtype = np.int8)\n",
    "u = np.array([0,5,10], dtype = np.int8)\n",
    "\n",
    "\n",
    "print(f'Shape de t: {t.shape}\\nShape de u: {u.shape}')"
   ]
  },
  {
   "cell_type": "markdown",
   "id": "baa26e06",
   "metadata": {},
   "source": [
    "De acuerdo como defina el vector, lo puedo tomar como fila o columna. En general, cuando vamos a trabajar en forma matricial nos interesa considerar ambas dimensiones. De todas maneras, cualquier dimension de valor 1 se puede comprimir. Usualmente se usa el termino \"shrink\" para esta tarea. Veamos como podemos sumar o restar dimensiones, que alteran el formato pero no agregan informacion al array: \n"
   ]
  },
  {
   "cell_type": "code",
   "execution_count": 54,
   "id": "ff30f0e5",
   "metadata": {},
   "outputs": [
    {
     "name": "stdout",
     "output_type": "stream",
     "text": [
      "Shape de t: (4, 1)\n",
      "Shape de u: (3, 1)\n"
     ]
    }
   ],
   "source": [
    "#Como vector columna\n",
    "t = t.reshape(4,1)\n",
    "u = u.reshape(3,1)\n",
    "print(f'Shape de t: {t.shape}\\nShape de u: {u.shape}')"
   ]
  },
  {
   "cell_type": "code",
   "execution_count": 55,
   "id": "03d69f72",
   "metadata": {},
   "outputs": [
    {
     "name": "stdout",
     "output_type": "stream",
     "text": [
      "Shape de t: (1, 4)\n",
      "Shape de u: (1, 3)\n"
     ]
    }
   ],
   "source": [
    "#Como vector fila\n",
    "t = t.reshape(1,4)\n",
    "u = u.reshape(1,3)\n",
    "print(f'Shape de t: {t.shape}\\nShape de u: {u.shape}')"
   ]
  },
  {
   "cell_type": "code",
   "execution_count": 56,
   "id": "5b1e17be",
   "metadata": {},
   "outputs": [
    {
     "name": "stdout",
     "output_type": "stream",
     "text": [
      "Shape de t: (1, 4, 1)\n",
      "Shape de u: (1, 3, 1)\n",
      "Shape de t: (1, 1, 1, 4, 1)\n",
      "Shape de u: (1, 1, 1, 3, 1)\n"
     ]
    }
   ],
   "source": [
    "#Agregando dimensiones vacias\n",
    "t = t.reshape(1,4,1)\n",
    "u = u.reshape(1,3,1)\n",
    "print(f'Shape de t: {t.shape}\\nShape de u: {u.shape}')\n",
    "t = t.reshape(1,1,1,4,1)\n",
    "u = u.reshape(1,1,1,3,1)\n",
    "print(f'Shape de t: {t.shape}\\nShape de u: {u.shape}')"
   ]
  },
  {
   "cell_type": "code",
   "execution_count": 63,
   "id": "08e99d14",
   "metadata": {},
   "outputs": [
    {
     "name": "stdout",
     "output_type": "stream",
     "text": [
      "Shape de t: (1, 4)\n",
      "Shape de u: (1, 3)\n"
     ]
    }
   ],
   "source": [
    "#Muy util: sumar una dimension sin depender de la actual\n",
    "t = t.reshape(1,-1)\n",
    "u = u.reshape(1,-1)\n",
    "print(f'Shape de t: {t.shape}\\nShape de u: {u.shape}')"
   ]
  },
  {
   "cell_type": "markdown",
   "id": "9b934926",
   "metadata": {},
   "source": [
    "<img src=\"imagenes/arrays_1.png\" alt=\"Drawing\"/>"
   ]
  },
  {
   "cell_type": "code",
   "execution_count": 64,
   "id": "wired-bangkok",
   "metadata": {},
   "outputs": [
    {
     "ename": "ValueError",
     "evalue": "operands could not be broadcast together with shapes (1,4) (1,3) ",
     "output_type": "error",
     "traceback": [
      "\u001b[0;31m---------------------------------------------------------------------------\u001b[0m",
      "\u001b[0;31mValueError\u001b[0m                                Traceback (most recent call last)",
      "\u001b[0;32m<ipython-input-64-449f4ade2cf0>\u001b[0m in \u001b[0;36m<module>\u001b[0;34m\u001b[0m\n\u001b[0;32m----> 1\u001b[0;31m \u001b[0mt\u001b[0m \u001b[0;34m+\u001b[0m \u001b[0mu\u001b[0m\u001b[0;34m\u001b[0m\u001b[0;34m\u001b[0m\u001b[0m\n\u001b[0m",
      "\u001b[0;31mValueError\u001b[0m: operands could not be broadcast together with shapes (1,4) (1,3) "
     ]
    }
   ],
   "source": [
    "t + u"
   ]
  },
  {
   "cell_type": "markdown",
   "id": "thrown-reflection",
   "metadata": {},
   "source": [
    "En el ejemplo, las longitudes de t y u son distintas. A pesar de que el comando `shape` nos muestra sólo una de las longitudes, podemos trabajar considerando que son de la forma (1,4) y (1,3). Vemos que la ultima dimension de ambos es distinta (4 y 3), mientras que la primera es igual (1 y 1). Ninguna operación puede hacerse bajo estas condiciones. Sin embargo, podemos manipular la forma de ellos para que sea posible operar. Si aplicamos `reshape` a 'u' para que sea de la forma (3,1), sus longitudes serán compatibles. Por un lado tendremos un array de la forma $1$ x $4$ y por el otro uno de la forma $3$ x $1$. Todavía son distintas pero sucede que es posible operar por haber adecuado la forma de uno de los vectores."
   ]
  },
  {
   "cell_type": "code",
   "execution_count": 65,
   "id": "addressed-attendance",
   "metadata": {},
   "outputs": [
    {
     "name": "stdout",
     "output_type": "stream",
     "text": [
      "[[ 0]\n",
      " [ 5]\n",
      " [10]]\n"
     ]
    }
   ],
   "source": [
    "# cambiamos la forma de 'u' para poder operar\n",
    "t = t.reshape(1,4)\n",
    "u = u.reshape(3,1)\n",
    "print(u)"
   ]
  },
  {
   "cell_type": "markdown",
   "id": "adf3f0f3",
   "metadata": {},
   "source": [
    "<img src=\"imagenes/arrays_2.png\" alt=\"Drawing\"/>"
   ]
  },
  {
   "cell_type": "markdown",
   "id": "f03381af",
   "metadata": {},
   "source": [
    "Con estas dimensiones, ahora si cumplimos las compatibilidades de ambas dimensiones de modo que podemos operar.\n",
    "El array **t** hace broadcasting (x3) en la primer dimension para igualar a la primer dimension de **u**, y el array **u** hace broadcasting (x4) en la segunda dimension para igualar a la dimension de **t**.\n",
    "Se puede ver cual va a ser la dimension del resultado, acorde a lo establecido por el broadcasting (3X4)"
   ]
  },
  {
   "cell_type": "markdown",
   "id": "9ea9ab72",
   "metadata": {},
   "source": [
    "<img src=\"imagenes/arrays_3.png\" alt=\"Drawing\"/>"
   ]
  },
  {
   "cell_type": "code",
   "execution_count": 66,
   "id": "fifteen-activation",
   "metadata": {},
   "outputs": [
    {
     "data": {
      "text/plain": [
       "array([[ 1,  2,  3,  4],\n",
       "       [ 6,  7,  8,  9],\n",
       "       [11, 12, 13, 14]], dtype=int8)"
      ]
     },
     "execution_count": 66,
     "metadata": {},
     "output_type": "execute_result"
    }
   ],
   "source": [
    "t + u"
   ]
  },
  {
   "cell_type": "markdown",
   "id": "adolescent-eclipse",
   "metadata": {},
   "source": [
    "Lo anterior es equivalente a realizar la siguiente operación entre arrays de iguales dimensiones:"
   ]
  },
  {
   "cell_type": "code",
   "execution_count": 67,
   "id": "saved-beast",
   "metadata": {},
   "outputs": [],
   "source": [
    "t2 = np.array([[1,2,3,4],[1,2,3,4],[1,2,3,4]], dtype=np.int8)\n",
    "u2 = np.array([[0,0,0,0],[5,5,5,5],[10,10,10,10]], dtype=np.int8)"
   ]
  },
  {
   "cell_type": "code",
   "execution_count": 68,
   "id": "grave-dividend",
   "metadata": {},
   "outputs": [
    {
     "data": {
      "text/plain": [
       "array([[ 1,  2,  3,  4],\n",
       "       [ 6,  7,  8,  9],\n",
       "       [11, 12, 13, 14]], dtype=int8)"
      ]
     },
     "execution_count": 68,
     "metadata": {},
     "output_type": "execute_result"
    }
   ],
   "source": [
    "t2 + u2"
   ]
  },
  {
   "cell_type": "markdown",
   "id": "binary-index",
   "metadata": {},
   "source": [
    "## Otras formas de crear arrays\n",
    "\n",
    "Numpy provee funciones para crear ciertos tipos de arrays de común uso. Veamos algunos casos:"
   ]
  },
  {
   "cell_type": "code",
   "execution_count": 69,
   "id": "solved-rhythm",
   "metadata": {},
   "outputs": [
    {
     "name": "stdout",
     "output_type": "stream",
     "text": [
      "[[1 1 1 1 1 1]\n",
      " [1 1 1 1 1 1]] \n",
      "\n",
      "[[0 0 0]\n",
      " [0 0 0]\n",
      " [0 0 0]] \n",
      "\n",
      "[0 1 2 3 4 5 6 7 8 9] \n",
      "\n",
      "[0.   1.25 2.5  3.75 5.  ] \n",
      "\n"
     ]
    }
   ],
   "source": [
    "# creamos un array de unos\n",
    "array_unos = np.ones((2,6), dtype = np.uint8)\n",
    "\n",
    "# creamos un array de ceros\n",
    "array_ceros = np.zeros((3,3), dtype = np.uint8)\n",
    "\n",
    "# creamos una secuencia creciente de números\n",
    "sec_nros = np.arange(10, dtype = np.uint8)\n",
    "\n",
    "# otra secuencia de números\n",
    "otra_sec_nros = np.linspace(0,5,5, dtype=np.float16)\n",
    "\n",
    "print(array_unos, \"\\n\") \n",
    "print(array_ceros, \"\\n\")\n",
    "print(sec_nros, \"\\n\")\n",
    "print(otra_sec_nros, \"\\n\")"
   ]
  },
  {
   "cell_type": "markdown",
   "id": "appointed-belly",
   "metadata": {},
   "source": [
    "Veamos algunas formas de crear secuencias aleatorias:"
   ]
  },
  {
   "cell_type": "code",
   "execution_count": 71,
   "id": "mobile-contact",
   "metadata": {},
   "outputs": [
    {
     "name": "stdout",
     "output_type": "stream",
     "text": [
      "[ 20  45 -17 -97 -72  -5  97 -85]\n"
     ]
    }
   ],
   "source": [
    "# randint = enteros aleatorios - se especifica el rango de valores\n",
    "rand_sec = np.random.randint(-100, 100, 8, dtype=np.int8)\n",
    "print(rand_sec)"
   ]
  },
  {
   "cell_type": "code",
   "execution_count": 72,
   "id": "moving-extra",
   "metadata": {},
   "outputs": [
    {
     "name": "stdout",
     "output_type": "stream",
     "text": [
      "[[0.62567807 0.07716976 0.03787468]\n",
      " [0.92917114 0.81863841 0.41814009]]\n"
     ]
    }
   ],
   "source": [
    "# rand = array con valores aleatorios entre 0 y 1 - se especifican las dimensiones y \n",
    "# longitud del array\n",
    "rand_sec = np.random.rand(2,3)\n",
    "print(rand_sec)"
   ]
  },
  {
   "cell_type": "code",
   "execution_count": 73,
   "id": "athletic-excess",
   "metadata": {},
   "outputs": [
    {
     "name": "stdout",
     "output_type": "stream",
     "text": [
      "[ 1.59909949 -2.16674163  0.07227987  0.1805796   0.32801598]\n"
     ]
    }
   ],
   "source": [
    "# randn \n",
    "rand_sec = np.random.randn(5)\n",
    "print(rand_sec)"
   ]
  },
  {
   "cell_type": "code",
   "execution_count": 78,
   "id": "8ae6cc71",
   "metadata": {},
   "outputs": [
    {
     "data": {
      "image/png": "[encoded data removed]",
      "text/plain": [
       "<Figure size 1440x360 with 2 Axes>"
      ]
     },
     "metadata": {
      "needs_background": "light"
     },
     "output_type": "display_data"
    }
   ],
   "source": [
    "rand = np.random.rand(1000)\n",
    "randn = np.random.randn(100000)\n",
    "fig, ax = plt.subplots(1, 2, figsize=(20,5))\n",
    "ax[0].hist(rand, bins=50)\n",
    "ax[0].set_title('Funcion rand')\n",
    "ax[1].hist(randn, bins=50)\n",
    "ax[1].set_title('Funcion randn')\n",
    "plt.show()"
   ]
  },
  {
   "cell_type": "markdown",
   "id": "spanish-looking",
   "metadata": {},
   "source": [
    "## Aplicando funciones matematicas\n",
    "\n",
    "Numpy dispone de varias funciones matemáticas para aplicar sobre un simple escalar o sobre un array. La lista completa de funciones matemáticas que provee Numpy puede verse haciendo [clic acá](https://docs.scipy.org/doc/numpy/reference/routines.math.html#trigonometric-functions).\n",
    "\n",
    "Veamos un ejemplo:"
   ]
  },
  {
   "cell_type": "code",
   "execution_count": 79,
   "id": "precious-walter",
   "metadata": {},
   "outputs": [],
   "source": [
    "# Primero creo un vector temporal\n",
    "t = np.linspace(0,1,16000) # Desde 0 hasta 1, genero 16000 puntos\n",
    "\n",
    "# funciones seno y coseno\n",
    "f_seno = np.sin(2*np.pi*1*t) #argumento --> 2 * pi * Frecuencia * tiempo\n",
    "f_coseno = np.cos(2*np.pi*1*t)"
   ]
  },
  {
   "cell_type": "markdown",
   "id": "d1479f60",
   "metadata": {},
   "source": [
    "Para una frecuencia de 1 Hz, sabemos que el período deberia ser de 1 segundo"
   ]
  },
  {
   "cell_type": "code",
   "execution_count": 81,
   "id": "saving-childhood",
   "metadata": {},
   "outputs": [
    {
     "data": {
      "image/png": "[encoded data removed]",
      "text/plain": [
       "<Figure size 432x288 with 1 Axes>"
      ]
     },
     "metadata": {
      "needs_background": "light"
     },
     "output_type": "display_data"
    }
   ],
   "source": [
    "plt.plot(t, f_coseno, label='coseno')\n",
    "plt.plot(t, f_seno, label='seno')\n",
    "plt.legend()\n",
    "plt.show()"
   ]
  },
  {
   "cell_type": "markdown",
   "id": "functional-aurora",
   "metadata": {},
   "source": [
    "Entonces, podemos crear arrays para representar funciones matemáticas conocidas. Primero creamos un array para definir una serie de puntos en el dominio de la función y luego aplicamos la función sobre estos puntos.\n",
    "\n",
    "Una de las funciones que utilizamos fue *linspace*. Es una función práctica para crear una representación de una función o un conjunto de datos. En este caso, con *x* tenemos representados los puntos en el dominio del tiempo, y aplicando la función sobre esos puntos creamos una array que representa a la misma."
   ]
  },
  {
   "cell_type": "markdown",
   "id": "derived-semester",
   "metadata": {},
   "source": [
    "## Funciones definidas por el usuario\n",
    "<img src=\"imagenes/funciones_1.png\" alt=\"Drawing\"/>\n",
    "\n",
    "Una función, es la forma de **agrupar expresiones y sentencias** que realicen determinadas acciones, pero que éstas, solo **se ejecuten cuando son llamadas**. Es decir, que al colocar un algoritmo dentro de una función y se corre el archivo, el algoritmo no será ejecutado si no se ha hecho una referencia a la función que lo contiene.\n",
    "\n",
    "\n",
    "En definitiva lo más importante para programar, y no solo en Python, es saber organizar el código en piezas más pequeñas que hagan tareas independientes y combinarlas entre sí. Las funciones son el primer nivel de organización del código: reciben unas entradas, las procesan y devuelven unas salidas."
   ]
  },
  {
   "cell_type": "markdown",
   "id": "75b7d83b",
   "metadata": {},
   "source": [
    "### Definicion de funciones\n",
    "\n",
    "La palabra reservada `def` se usa para **definir funciones**. Debe seguirle el nombre de la función y la **lista de argumentos entre paréntesis**. Las sentencias que forman el cuerpo de la función empiezan en la línea siguiente, y deben estar con sangría. **La primer sentencia** del cuerpo de la función puede ser opcionalmente una cadena de texto literal (utilizar `\"\"\"`, en lugar de `#`); esta es la cadena de texto de documentación de la función, o **docstring**. Es una buena práctica, no solo documentar las funciones, sino hacerlo con un estilo único y estandarizado. Una referencia respaldada en el ecosistema científico es el estilo de documentación de [`NumPy`](https://numpydoc.readthedocs.io/en/latest/format.html#docstring-standard)\n",
    "<img src=\"imagenes/funciones_2.png\" alt=\"Drawing\"/>\n",
    "\n",
    "\n",
    "Lo vemos con un ejemplo concreto. Supongamos que estoy trabajando con datos de temperatura, y necesito una funcion que reciba un valor de temperatura expresado en Farenheit y lo convierta en Celsius. Esta conversion se da segun la siguiente expresion:\n",
    "\\begin{equation}\n",
    "X_{Celsius} = (X_{Farenheit} - 32) * \\frac{5}{9}\n",
    "\\end{equation}\n",
    "\n",
    "Entonces veamos como definimos esta funcion:"
   ]
  },
  {
   "cell_type": "code",
   "execution_count": 7,
   "id": "525f55a2",
   "metadata": {},
   "outputs": [],
   "source": [
    "def farenheit_to_celsius(x_farenheit):\n",
    "    \"\"\"\n",
    "    Esta funcion recibe un valor de temperatura expresado\n",
    "    en Farenheit, y devuelve su equivalente expresado en\n",
    "    Celsius.\n",
    "    \n",
    "    \"\"\"\n",
    "    # para saber cuando se ejecuta la funcion, agrego un print\n",
    "    print('La funcion comenzo a ejecutarse...')\n",
    "    \n",
    "    # cambio de escala\n",
    "    x_celsius = (x_farenheit - 32) * (5/9)\n",
    "    \n",
    "    # retorno del resultado\n",
    "    return x_celsius"
   ]
  },
  {
   "cell_type": "markdown",
   "id": "9bb743b8",
   "metadata": {},
   "source": [
    "Como vemos, al ejecutar la celda anterior estamos **definiendo** la funcion. Es decir, ahora el interprete sabe de la existencia de dicha función, y de ahora en mas la puede utilizar. Pasemos entonces a **ejecutar** la funcion"
   ]
  },
  {
   "cell_type": "code",
   "execution_count": 4,
   "id": "be8d3413",
   "metadata": {},
   "outputs": [
    {
     "name": "stdout",
     "output_type": "stream",
     "text": [
      "La funcion comenzo a ejecutarse...\n",
      "33.50° Farenheit son equivalentes a 0.83° Celsius\n"
     ]
    }
   ],
   "source": [
    "x_far = 33.5\n",
    "x_cel = farenheit_to_celsius(x_far)\n",
    "\n",
    "print(f\"{x_far:.2f}° Farenheit son equivalentes a {x_cel:.2f}° Celsius\")"
   ]
  },
  {
   "cell_type": "code",
   "execution_count": 5,
   "id": "409757cb",
   "metadata": {},
   "outputs": [
    {
     "name": "stdout",
     "output_type": "stream",
     "text": [
      "La funcion comenzo a ejecutarse...\n"
     ]
    },
    {
     "data": {
      "text/plain": [
       "0.8333333333333334"
      ]
     },
     "execution_count": 5,
     "metadata": {},
     "output_type": "execute_result"
    }
   ],
   "source": [
    "farenheit_to_celsius(x_far)"
   ]
  },
  {
   "cell_type": "markdown",
   "id": "236d3d23",
   "metadata": {},
   "source": [
    "El retorno de la funcion, al igual que los parametros de entrada, son opcionales. Es decir, podemos definir funciones que no tengan parametros de entrada, asi como también funciones que no retornen ninguna variable. De igual manera, se suele utilizar la palabra return simplemente para finalizar la función. "
   ]
  },
  {
   "cell_type": "code",
   "execution_count": 13,
   "id": "edb60459",
   "metadata": {},
   "outputs": [],
   "source": [
    "def saludar():\n",
    "    print('Hola como va bla bla bla')"
   ]
  },
  {
   "cell_type": "code",
   "execution_count": 14,
   "id": "d2a744dd",
   "metadata": {},
   "outputs": [
    {
     "name": "stdout",
     "output_type": "stream",
     "text": [
      "Hola como va bla bla bla\n"
     ]
    }
   ],
   "source": [
    "saludar()"
   ]
  },
  {
   "cell_type": "markdown",
   "id": "prescription-daniel",
   "metadata": {},
   "source": [
    "### Scope\n",
    "\n",
    "Es importante resaltar que **las variables que se crean dentro de las funciones no son accesibles una vez que termina la ejecución de la función**. En cambio, la función si que puede acceder a cosas que se han definido fuera de ella. No obstantes, esto último no constituye una buena práctica de cara a la reproducibilidad, mantenibilidad y testeo de la función. "
   ]
  },
  {
   "cell_type": "code",
   "execution_count": 3,
   "id": "43e88081",
   "metadata": {},
   "outputs": [],
   "source": [
    "# veamos un ejemplo\n",
    "def sumar_cosas(a):\n",
    "    c = 3\n",
    "    salida = a + b + c\n",
    "    return salida    \n",
    "# Ojo! Para borrar las variables definidas tenemos que reiniciar el kernel (shortcut 00)"
   ]
  },
  {
   "cell_type": "markdown",
   "id": "sacred-gambling",
   "metadata": {},
   "source": [
    "### Argumentos\n",
    "\n",
    "También es posible definir funciones con un número variable de argumentos. Hay tres formas que pueden ser combinadas:\n",
    "\n",
    "* Argumentos con valores por omisión.\n",
    "* Palabras claves como argumentos.\n",
    "* Listas de argumentos arbitrarios."
   ]
  },
  {
   "cell_type": "markdown",
   "id": "subsequent-commissioner",
   "metadata": {},
   "source": [
    "#### Argumentos con valores por omision\n",
    "\n",
    "La forma más útil es especificar un valor por omisión para uno o más argumentos. Esto crea una función que puede ser llamada con menos argumentos que los que permite. Por ejemplo:"
   ]
  },
  {
   "cell_type": "code",
   "execution_count": 6,
   "id": "sonic-german",
   "metadata": {},
   "outputs": [],
   "source": [
    "def pedir_confirmacion(prompt, reintentos=4, recordatorio=\"Por favor, intente nuevamente!\"):\n",
    "    while True:\n",
    "        ok = input(prompt)\n",
    "        if ok in (\"s\", \"S\", \"si\", \"Si\", \"SI\", \"sI\"):  # contemplando todos los casos, \"in\" palabra resevada para probar si una secuencia contiene o no un determinado valor.\n",
    "            return True\n",
    "        if ok in (\"n\", \"N\", \"no\", \"No\", \"NO\", \"nO\"):  # contemplando todos los casos\n",
    "            return False\n",
    "        reintentos -= 1\n",
    "        if reintentos < 0:\n",
    "            raise ValueError(\"respuesta de usuario inválida\")\n",
    "        print (recordatorio)"
   ]
  },
  {
   "cell_type": "code",
   "execution_count": 7,
   "id": "harmful-belle",
   "metadata": {},
   "outputs": [
    {
     "name": "stdout",
     "output_type": "stream",
     "text": [
      "¿Realmente queres salir?asd\n",
      "Por favor, intente nuevamente!\n",
      "¿Realmente queres salir?asd\n",
      "Por favor, intente nuevamente!\n",
      "¿Realmente queres salir?s\n"
     ]
    },
    {
     "data": {
      "text/plain": [
       "True"
      ]
     },
     "execution_count": 7,
     "metadata": {},
     "output_type": "execute_result"
    }
   ],
   "source": [
    "# pasando solo el argumento obligatorio\n",
    "pedir_confirmacion(\"¿Realmente queres salir?\")"
   ]
  },
  {
   "cell_type": "code",
   "execution_count": 8,
   "id": "3c6087dc",
   "metadata": {},
   "outputs": [
    {
     "ename": "TypeError",
     "evalue": "pedir_confirmacion() missing 1 required positional argument: 'prompt'",
     "output_type": "error",
     "traceback": [
      "\u001b[0;31m---------------------------------------------------------------------------\u001b[0m",
      "\u001b[0;31mTypeError\u001b[0m                                 Traceback (most recent call last)",
      "\u001b[0;32m<ipython-input-8-4d194b76a55e>\u001b[0m in \u001b[0;36m<module>\u001b[0;34m\u001b[0m\n\u001b[1;32m      1\u001b[0m \u001b[0;31m# y si no paso un parametro obligatorio?\u001b[0m\u001b[0;34m\u001b[0m\u001b[0;34m\u001b[0m\u001b[0;34m\u001b[0m\u001b[0m\n\u001b[0;32m----> 2\u001b[0;31m \u001b[0mpedir_confirmacion\u001b[0m\u001b[0;34m(\u001b[0m\u001b[0mreintentos\u001b[0m\u001b[0;34m=\u001b[0m\u001b[0;36m4\u001b[0m\u001b[0;34m,\u001b[0m \u001b[0mrecordatorio\u001b[0m\u001b[0;34m=\u001b[0m\u001b[0;34m'Proba de nuevo!'\u001b[0m\u001b[0;34m)\u001b[0m\u001b[0;34m\u001b[0m\u001b[0;34m\u001b[0m\u001b[0m\n\u001b[0m",
      "\u001b[0;31mTypeError\u001b[0m: pedir_confirmacion() missing 1 required positional argument: 'prompt'"
     ]
    }
   ],
   "source": [
    "# y si no paso un parametro obligatorio?\n",
    "pedir_confirmacion(reintentos=4, recordatorio='Proba de nuevo!')"
   ]
  },
  {
   "cell_type": "code",
   "execution_count": 9,
   "id": "vanilla-frame",
   "metadata": {},
   "outputs": [
    {
     "name": "stdout",
     "output_type": "stream",
     "text": [
      "¿Sobreescribir el archivo?s\n"
     ]
    },
    {
     "data": {
      "text/plain": [
       "True"
      ]
     },
     "execution_count": 9,
     "metadata": {},
     "output_type": "execute_result"
    }
   ],
   "source": [
    "# pasando uno de los argumento opcionales\n",
    "pedir_confirmacion(\"¿Sobreescribir el archivo?\", 2)"
   ]
  },
  {
   "cell_type": "code",
   "execution_count": 10,
   "id": "after-hello",
   "metadata": {},
   "outputs": [
    {
     "name": "stdout",
     "output_type": "stream",
     "text": [
      "¿Sobreescribir el archivo?s\n"
     ]
    },
    {
     "data": {
      "text/plain": [
       "True"
      ]
     },
     "execution_count": 10,
     "metadata": {},
     "output_type": "execute_result"
    }
   ],
   "source": [
    "# pasando todos los argumentos\n",
    "pedir_confirmacion(\"¿Sobreescribir el archivo?\", 2, \"Vamos, solo si o no!\")"
   ]
  },
  {
   "cell_type": "markdown",
   "id": "aware-atlanta",
   "metadata": {},
   "source": [
    "#### Palabras claves como argumentos\n",
    "\n",
    "Las funciones también puede ser llamadas usando argumentos con palabras claves (o argumentos nombrados) de la forma **keyword = value**. Por ejemplo, la siguiente función:"
   ]
  },
  {
   "cell_type": "code",
   "execution_count": 11,
   "id": "chubby-playlist",
   "metadata": {},
   "outputs": [],
   "source": [
    "def frases(objeto, accion='crepitar', respuesta='42', campeon='Ecuador'):\n",
    "    print(f\"-- Nunca oiste la {objeto} {accion} \")\n",
    "    print(f\"-- La respuesta la gran pregunta de la vida, el universo y todo, es: {respuesta}\")\n",
    "    print(f\"-- El proximo campeon del mundo sera {campeon}!\")"
   ]
  },
  {
   "cell_type": "markdown",
   "id": "running-joining",
   "metadata": {},
   "source": [
    "Acepta un argumento obligatorio (objeto) y tres argumentos opcionales (accion, respuesta y campeon). Esta función puede llamarse de cualquiera de las siguientes maneras:"
   ]
  },
  {
   "cell_type": "code",
   "execution_count": 12,
   "id": "likely-stations",
   "metadata": {},
   "outputs": [
    {
     "name": "stdout",
     "output_type": "stream",
     "text": [
      "-- Nunca oiste la ojarasca crepitar \n",
      "-- La respuesta la gran pregunta de la vida, el universo y todo, es: 42\n",
      "-- El proximo campeon del mundo sera Ecuador!\n"
     ]
    }
   ],
   "source": [
    "frases('ojarasca')  # 1 argumento posicional"
   ]
  },
  {
   "cell_type": "code",
   "execution_count": 13,
   "id": "optical-marketplace",
   "metadata": {},
   "outputs": [
    {
     "name": "stdout",
     "output_type": "stream",
     "text": [
      "-- Nunca oiste la ojarasca crepitar \n",
      "-- La respuesta la gran pregunta de la vida, el universo y todo, es: 42\n",
      "-- El proximo campeon del mundo sera Ecuador!\n"
     ]
    }
   ],
   "source": [
    "frases(objeto='ojarasca')  # 1 argumento nombrado, palabra clave"
   ]
  },
  {
   "cell_type": "code",
   "execution_count": 14,
   "id": "ready-hardwood",
   "metadata": {},
   "outputs": [
    {
     "name": "stdout",
     "output_type": "stream",
     "text": [
      "-- Nunca oiste la ojarasca caer \n",
      "-- La respuesta la gran pregunta de la vida, el universo y todo, es: 42\n",
      "-- El proximo campeon del mundo sera Ecuador!\n"
     ]
    }
   ],
   "source": [
    "frases(objeto = 'ojarasca', accion='caer')  # 2 argumentos nombrados"
   ]
  },
  {
   "cell_type": "code",
   "execution_count": 15,
   "id": "north-celtic",
   "metadata": {},
   "outputs": [
    {
     "name": "stdout",
     "output_type": "stream",
     "text": [
      "-- Nunca oiste la ojarasca caer \n",
      "-- La respuesta la gran pregunta de la vida, el universo y todo, es: 42\n",
      "-- El proximo campeon del mundo sera Ecuador!\n"
     ]
    }
   ],
   "source": [
    "frases(accion='caer', objeto='ojarasca') # 2 argumentos nombrados, sin orden"
   ]
  }
 ],
 "metadata": {
  "kernelspec": {
   "display_name": "Python 3 (ipykernel)",
   "language": "python",
   "name": "python3"
  },
  "language_info": {
   "codemirror_mode": {
    "name": "ipython",
    "version": 3
   },
   "file_extension": ".py",
   "mimetype": "text/x-python",
   "name": "python",
   "nbconvert_exporter": "python",
   "pygments_lexer": "ipython3",
   "version": "3.9.12"
  }
 },
 "nbformat": 4,
 "nbformat_minor": 5
}

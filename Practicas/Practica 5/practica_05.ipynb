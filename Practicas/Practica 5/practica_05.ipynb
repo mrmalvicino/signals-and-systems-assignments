{
 "cells": [
  {
   "cell_type": "markdown",
   "id": "b78505c7",
   "metadata": {},
   "source": [
    "## UnTref\n",
    "## Señales y Sistemas\n",
    "\n",
    "# Práctica 5: Transformada de Fourier"
   ]
  },
  {
   "cell_type": "markdown",
   "id": "fb1caa1d",
   "metadata": {},
   "source": [
    "\n",
    "\n",
    "La transformada de Fourier en el dominio discreto se representa con la siguiente ecuación:\n",
    "\n",
    "\\begin{equation}\n",
    "X[k] = \\sum_{n=0}^{N-1} \\! x[n] \\mathrm{e}^{-j2\\pi kn/N} dt\n",
    "\\end{equation}\n",
    "\n",
    "Ésta se conoce como la Transformada Discreta de Fourier (DFT), donde:\n",
    "\n",
    "* N = numero de muestras\n",
    "* n = muestra actual\n",
    "* x[n] = valor de la señal para n\n",
    "* k = valor de frecuencia (0 Hz hasta N-1 Hz)\n",
    "* X[k] = resultado de la DFT (amplitud y fase)\n"
   ]
  },
  {
   "cell_type": "markdown",
   "id": "4bc80f75",
   "metadata": {},
   "source": [
    "★★☆☆☆ - 6.01) A partir de la ecuación, defina una función que calcule la DFT de una señal, tomando a la misma como argumento de entrada y devolviendo el resultado de la DFT a la salida."
   ]
  },
  {
   "cell_type": "code",
   "execution_count": null,
   "id": "bdf3d645",
   "metadata": {},
   "outputs": [],
   "source": [
    "def DFT(x):\n",
    "\n",
    "    #Completar"
   ]
  },
  {
   "cell_type": "markdown",
   "id": "536db44b",
   "metadata": {},
   "source": [
    "Aplique la función sobre una señal de prueba. Genere un señal senoidal de 100 Hz, muestreada a 16 KHz. Defina un intervalo de tiempo de 5 segundos para la prueba.\n"
   ]
  },
  {
   "cell_type": "code",
   "execution_count": null,
   "id": "7ad92c74",
   "metadata": {},
   "outputs": [],
   "source": [
    "# Completar"
   ]
  },
  {
   "cell_type": "markdown",
   "id": "6b69b3e2",
   "metadata": {},
   "source": [
    "Observe cuánto demora el algoritmo en calcular la DFT: Para esto se puede utilizar la librería `time`, la cual nos permite definir el momento exacto en el que se ejecuta una línea de código. Por lo tanto, si capturamos el tiempo al inicio y final de la ejecución de un determinado código, podemos obtener el intervalo de tiempo que tarda en ejecutarse el mismo."
   ]
  },
  {
   "cell_type": "code",
   "execution_count": null,
   "id": "be02f581",
   "metadata": {},
   "outputs": [],
   "source": [
    "import time\n",
    "\n",
    "t_inicio = time.time()\n",
    "\n",
    "# Acá va el código que se busca evaluar\n",
    "\n",
    "t_fin = time.time()\n",
    "\n",
    "t_procesamiento = t_fin - t_inicio\n",
    "\n",
    "print(f\"El tiempo de procesamiento mediante la DFT es de: {t_procesamiento} segundos.\")"
   ]
  },
  {
   "cell_type": "markdown",
   "id": "9f66e77c",
   "metadata": {},
   "source": [
    "Aplique el mismo cálculo con la función `numpy.fft` y observe el tiempo transcurrido con este algoritmo. "
   ]
  },
  {
   "cell_type": "code",
   "execution_count": null,
   "id": "1569b0a3",
   "metadata": {},
   "outputs": [],
   "source": [
    "t_inicio = time.time()\n",
    "\n",
    "# Acá va el código que se busca evaluar\n",
    "\n",
    "t_fin = time.time()\n",
    "\n",
    "t_procesamiento = t_fin - t_inicio\n",
    "\n",
    "print(f\"El tiempo de procesamiento mediante la FFT es de: {t_procesamiento} segundos.\")"
   ]
  },
  {
   "cell_type": "markdown",
   "id": "68f2934d",
   "metadata": {},
   "source": [
    "★★★☆☆ - 6.02) Generar una función cuyo argumento de entrada sea una señal de audio y de como resultado un gráfico de su espectro frecuencial con el formato debido:\n",
    "\n",
    "- Rango frecuencial correcto\n",
    "- Representación del eje frecuencial en escala logarítmica\n",
    "- Escalado en amplitud apropiado"
   ]
  },
  {
   "cell_type": "code",
   "execution_count": null,
   "id": "20f0447b",
   "metadata": {},
   "outputs": [],
   "source": [
    "# Completar"
   ]
  },
  {
   "cell_type": "markdown",
   "id": "2148a9ca",
   "metadata": {},
   "source": [
    "★★☆☆☆ - 6.03) Dados los siguientes audios que se encuentran en la carpeta \"audios\" de la práctica:\n",
    "\n",
    "- Audio_1.wav\n",
    "- Audio_2.wav\n",
    "\n",
    "Graficar su respuesta en frecuencia mediante la función desarrollada en el punto anterior. Analizar los resultados obtenidos, a que se deben las diferencias?"
   ]
  },
  {
   "cell_type": "code",
   "execution_count": null,
   "id": "1a58b519",
   "metadata": {},
   "outputs": [],
   "source": [
    "# Completar\n"
   ]
  },
  {
   "cell_type": "markdown",
   "id": "d2e42867",
   "metadata": {},
   "source": [
    "★★★☆☆ - 6.04)  Genere una onda cuadrada de frecuencia 150 Hz, muestreada con 16 KHz en un intervalo de 5 segundos.\n",
    "\n",
    "Aplique la transformada a dicha señal y grafíquela. Observe los componentes en frecuencia que aparecen y busque una explicación para los componentes de frecuencia que se visualizan. ¿Qué relación encuentra con la frecuencia de muestreo?\n",
    "\n",
    "Por ultimo, realice la transformada inversa (IFFT) para volver al dominio temporal y compruebe que el resultado sea igual a la señal original."
   ]
  },
  {
   "cell_type": "code",
   "execution_count": null,
   "id": "3b800617",
   "metadata": {},
   "outputs": [],
   "source": [
    "# Completar"
   ]
  },
  {
   "cell_type": "markdown",
   "id": "ab42fd28",
   "metadata": {},
   "source": [
    "★★★★☆ - 6.05) Una vez que logramos obtener una representación frecuencial de una señal de audio en el formato y escala correcta, podemos ver que tenemos mucha mayor resolución en altas frecuencias, lo que si bien es bueno, genera una sobrecarga de puntos en el espectro que no nos ayuda a la hora de hacer un análisis del mismo. ¿Que solución propone para este problema? Ejemplifique la posible solución mediante código."
   ]
  },
  {
   "cell_type": "code",
   "execution_count": null,
   "id": "5fdb4bfd",
   "metadata": {},
   "outputs": [],
   "source": [
    "# Completar"
   ]
  }
 ],
 "metadata": {
  "kernelspec": {
   "display_name": "Python 3",
   "language": "python",
   "name": "python3"
  },
  "language_info": {
   "codemirror_mode": {
    "name": "ipython",
    "version": 3
   },
   "file_extension": ".py",
   "mimetype": "text/x-python",
   "name": "python",
   "nbconvert_exporter": "python",
   "pygments_lexer": "ipython3",
   "version": "3.8.5"
  }
 },
 "nbformat": 4,
 "nbformat_minor": 5
}

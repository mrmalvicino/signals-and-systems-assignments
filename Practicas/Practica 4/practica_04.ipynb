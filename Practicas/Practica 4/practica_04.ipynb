{
 "cells": [
  {
   "cell_type": "markdown",
   "id": "a7083941",
   "metadata": {},
   "source": [
    "## UnTref\n",
    "## Señales y Sistemas\n",
    "\n",
    "# PRACTICA 4: \n",
    "## CONVOLUCIÓN DE SEÑALES Y SU IMPLEMENTACION EN AUDIO\n"
   ]
  },
  {
   "cell_type": "markdown",
   "id": "145a7471",
   "metadata": {},
   "source": [
    "### OBJETIVO\n",
    "\n",
    "En esta práctica se pretende reforzar el concepto de la convolución como mecanismo para conocer la salida de un sistema, dada su respuesta impulsiva y la entrada. Tambien se busca profundizar sobre las aplicaciones de esta operación en el campo de la acústica y el audio."
   ]
  },
  {
   "cell_type": "markdown",
   "id": "a90dd661",
   "metadata": {},
   "source": [
    "### OBJETIVOS ESPECIFICOS:\n",
    "\n",
    "* Obtener la convolución de diferentes señales y comparar los resultados prácticos con los teóricos.\n",
    "* Implementar la convolución en señales de audio para lograr transformaciónes como la auralización, efectos temporales, etc.\n",
    "* Obtener la respuesta al impulso de un recinto a partir del método de Farina.\n"
   ]
  },
  {
   "cell_type": "markdown",
   "id": "5c752f8e",
   "metadata": {},
   "source": [
    "## Parte experimental 1: CONVOLUCIÓN DE SEÑALES\n",
    "\n",
    "★★★☆☆ - 4.01) Generar 3 señales diferentes de mismo rango en el eje X. Realizar la convolución entre estas señales y graficar el resultado junto a las señales graficadas mediante 3 subplots apilados (es decir, alineados verticalmente). Utilizar una cantidad de muestras tal que los graficos se vean con una resolución similar a una función continua.\n",
    "\n",
    "Las operaciones a realizar son: \n",
    "* $x_1*x_2$\n",
    "* $x_1* x_3$  \n",
    "* $x_2*x_3$\n",
    "\n"
   ]
  },
  {
   "cell_type": "code",
   "execution_count": 1,
   "id": "3388ecaa",
   "metadata": {},
   "outputs": [],
   "source": [
    "#Completar"
   ]
  },
  {
   "cell_type": "markdown",
   "id": "7b2ad5a0",
   "metadata": {},
   "source": [
    "## Parte experimental 2: DELAY\n",
    "\n",
    "El audio denominado \"Guitarra.wav\" consiste en un punteo de guitarra sampleado a 44100 muestras.\n",
    "\n",
    "★★★☆☆ - 4.02) Convolucione esta grabación con otra señal de forma tal que el resultado de esta operación sea la misma grabación con un efecto de delay.\n",
    "\n",
    "Sabiendo que la convolución de una señal x(t) con un impulso unitario da como resultado la misma x(t), que señal utilizaria para convolucionar con la grabación de guitarra y generar el efecto de delay?"
   ]
  },
  {
   "cell_type": "code",
   "execution_count": 2,
   "id": "3c253feb",
   "metadata": {},
   "outputs": [],
   "source": [
    "#Completar"
   ]
  },
  {
   "cell_type": "markdown",
   "id": "8ed5b3aa",
   "metadata": {},
   "source": [
    "## Parte experimental 3: AURALIZACIÓN\n",
    "\n",
    "★★★☆☆ - 4.03) Auralizar la señal \"Guitarra.wav\" a través de la respuesta al impulso \"res_imp.wav\" mediante el proceso de convolución y reproducirla. Se pretende que el resultado se escuche como la misma señal de guitarra con la reverberación característica del impulso utilizado. Si el resultado obtenido se escucha mal (distorsión agregada, cambio de pitch, etc), buscar la manera de solucionar el problema."
   ]
  },
  {
   "cell_type": "code",
   "execution_count": 3,
   "id": "cdfb1feb",
   "metadata": {},
   "outputs": [],
   "source": [
    "#Completar"
   ]
  },
  {
   "cell_type": "markdown",
   "id": "2a697351",
   "metadata": {},
   "source": [
    "## Parte experimental 4: RESPUESTA AL IMPULSO\n",
    "\n",
    "Sabiendo que se tiene una señal de audio que corresponde a un barrido frecuencial grabado dentro de un recinto, se busca obtener la respuesta al impulso de ese lugar.\n",
    "\n",
    "El barrido frecuencial utizilado fue logarítmico (Logaritmic Sine Sweep), tuvo una duración de 30 segundos y un ancho de banda de 30 a 16Khz.\n",
    "\n",
    "★★★★☆ - 4.04) A partir del audio \"Sweep_grabado.wav\" y la información brindada sobre el barrido, obtener la respuesta al impulso del recinto en cuestión. Utilizando la respuesta al impulso obtenida, auralizar la señal \"Guitarra.wav\" utilizada anteriormente."
   ]
  },
  {
   "cell_type": "code",
   "execution_count": 4,
   "id": "fdaa243b",
   "metadata": {},
   "outputs": [],
   "source": [
    "#Completar"
   ]
  }
 ],
 "metadata": {
  "interpreter": {
   "hash": "8f3eb8b73d0de0ad6f7f7f67b90e6b0e9312e1e398a2652ab6d900c37541e5d2"
  },
  "kernelspec": {
   "display_name": "Python 3 (ipykernel)",
   "language": "python",
   "name": "python3"
  },
  "language_info": {
   "codemirror_mode": {
    "name": "ipython",
    "version": 3
   },
   "file_extension": ".py",
   "mimetype": "text/x-python",
   "name": "python",
   "nbconvert_exporter": "python",
   "pygments_lexer": "ipython3",
   "version": "3.9.12"
  }
 },
 "nbformat": 4,
 "nbformat_minor": 5
}

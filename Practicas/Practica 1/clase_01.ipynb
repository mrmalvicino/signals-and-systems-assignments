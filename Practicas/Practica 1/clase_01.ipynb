{
 "cells": [
  {
   "cell_type": "markdown",
   "id": "eae66a6f",
   "metadata": {},
   "source": [
    "# Bienvenidos a Jupyter! \n",
    "Vamos a usar este entorno para dar varias de las clases, por la comodidad de la ejecución en celdas, y la posibilidad de combinar codigo con texto enriquecido (imagenes, links, tablas, etc). Además, estos Notebooks pueden renderizarse en formato PDF para leerlos como apuntes."
   ]
  },
  {
   "cell_type": "markdown",
   "id": "ffef4182",
   "metadata": {},
   "source": [
    "# ¿Qué vamos a ver?\n",
    "- Nociones básicas de funcionamiento de Python y Jupyther\n",
    "- Variables\n",
    "- Tipos de datos\n",
    "- Funciones integradas\n",
    "- Operadores\n",
    "- Módulos\n",
    "- Listas - Arrays\n",
    "- Estructuras de control de flujo"
   ]
  },
  {
   "cell_type": "markdown",
   "id": "07b1a661",
   "metadata": {},
   "source": [
    "# Fundamentos Basicos del Lenguaje Python"
   ]
  },
  {
   "cell_type": "code",
   "execution_count": 1,
   "id": "201efc69",
   "metadata": {},
   "outputs": [
    {
     "name": "stdout",
     "output_type": "stream",
     "text": [
      "Hola!\n"
     ]
    }
   ],
   "source": [
    "print('Hola!')"
   ]
  },
  {
   "cell_type": "markdown",
   "id": "c2ecd655",
   "metadata": {},
   "source": [
    "## Python como calculadora\n",
    "- Operaciones elementales +, =, /, //, *, **\n",
    "- Reglas de prioridad / uso de parentesis\n",
    "- Expresiones"
   ]
  },
  {
   "cell_type": "code",
   "execution_count": 2,
   "id": "18a096d1",
   "metadata": {},
   "outputs": [
    {
     "data": {
      "text/plain": [
       "2"
      ]
     },
     "execution_count": 2,
     "metadata": {},
     "output_type": "execute_result"
    }
   ],
   "source": [
    "1+1"
   ]
  },
  {
   "cell_type": "code",
   "execution_count": 3,
   "id": "4fdc16d3",
   "metadata": {},
   "outputs": [
    {
     "data": {
      "text/plain": [
       "1.0"
      ]
     },
     "execution_count": 3,
     "metadata": {},
     "output_type": "execute_result"
    }
   ],
   "source": [
    "2/2"
   ]
  },
  {
   "cell_type": "code",
   "execution_count": 4,
   "id": "1d86ae79",
   "metadata": {},
   "outputs": [
    {
     "data": {
      "text/plain": [
       "8"
      ]
     },
     "execution_count": 4,
     "metadata": {},
     "output_type": "execute_result"
    }
   ],
   "source": [
    "2 * 4"
   ]
  },
  {
   "cell_type": "markdown",
   "id": "bf0ca26b",
   "metadata": {},
   "source": [
    "### Variables\n",
    "- Nombre de una expresion\n",
    "- = es el operador de ASIGNACION (no es una igualdad, no se trata de una ecuacion)\n",
    "- La variable va a la izquierda, la expresion a la derecha"
   ]
  },
  {
   "cell_type": "code",
   "execution_count": 15,
   "id": "bc624f2f",
   "metadata": {},
   "outputs": [],
   "source": [
    "variable_1 = 14"
   ]
  },
  {
   "cell_type": "code",
   "execution_count": 16,
   "id": "97953a64",
   "metadata": {},
   "outputs": [
    {
     "name": "stdout",
     "output_type": "stream",
     "text": [
      "15.89089089\n"
     ]
    }
   ],
   "source": [
    "print(variable_1)"
   ]
  },
  {
   "cell_type": "code",
   "execution_count": 12,
   "id": "dda1e53e",
   "metadata": {},
   "outputs": [
    {
     "data": {
      "text/plain": [
       "15"
      ]
     },
     "execution_count": 12,
     "metadata": {},
     "output_type": "execute_result"
    }
   ],
   "source": [
    "variable_1"
   ]
  },
  {
   "cell_type": "code",
   "execution_count": 21,
   "id": "30a570de",
   "metadata": {},
   "outputs": [],
   "source": [
    "# crear una variable\n",
    "a = 2+6"
   ]
  },
  {
   "cell_type": "code",
   "execution_count": 22,
   "id": "eeaa7f01",
   "metadata": {},
   "outputs": [],
   "source": [
    "a = a + 1"
   ]
  },
  {
   "cell_type": "code",
   "execution_count": 23,
   "id": "46b76e66",
   "metadata": {},
   "outputs": [
    {
     "data": {
      "text/plain": [
       "9"
      ]
     },
     "execution_count": 23,
     "metadata": {},
     "output_type": "execute_result"
    }
   ],
   "source": [
    "a"
   ]
  },
  {
   "cell_type": "code",
   "execution_count": 24,
   "id": "e4322acf",
   "metadata": {},
   "outputs": [
    {
     "name": "stdout",
     "output_type": "stream",
     "text": [
      "9\n"
     ]
    }
   ],
   "source": [
    "# examinar variable\n",
    "print(a)"
   ]
  },
  {
   "cell_type": "code",
   "execution_count": 25,
   "id": "4a4d667c",
   "metadata": {},
   "outputs": [
    {
     "data": {
      "text/plain": [
       "9"
      ]
     },
     "execution_count": 25,
     "metadata": {},
     "output_type": "execute_result"
    }
   ],
   "source": [
    "a"
   ]
  },
  {
   "cell_type": "markdown",
   "id": "b6f912d1",
   "metadata": {},
   "source": [
    "# Tipos de datos\n",
    "\n",
    "Se denomina **dato** a cualquier **objeto manipulable por la computadora**. Un dato puede ser un carácter leı́do de un teclado, información almacenada en un disco, un número que se encuentra en la memoria central, etc. Los distintos tipos de datos se representan en diferentes formas: por ejemplo, no se almacena internamente de la misma manera un número entero que un carácter. Aunque los lenguajes de alto nivel permiten en alguna medida ignorar la representación interna de los datos, es preciso conocer algunos conceptos mı́nimos. **A nivel de máquina todos los datos se representan utilizando una secuencia finita de bits**. La definición de un tipo de dato incluye la definición del conjunto de valores permitidos y las operaciones que se pueden llevar a cabo sobre estos valores. Cuando se utiliza un dato en un programa es preciso que esté determinado su tipo para que el **compilador** o **interpretador** sepa cómo debe tratarlo y almacenarlo. Dependiendo del lenguaje puede o no ser preciso declarar expresamente en el programa el tipo de cada dato. No todos los tipos de datos existen en todos los lenguajes de programación. Hay lenguajes más ricos que otros en este sentido\n",
    "\n",
    "Tipos de datos elementales:\n",
    "- Números enteros\n",
    "- Números reales\n",
    "- Números Complejos\n",
    "- Caracteres\n",
    "- Booleanos\n",
    "\n",
    "\n",
    "Para saber con que tipo de dato estamos tratando, hacemos uso de la funcion integrada **type()**"
   ]
  },
  {
   "cell_type": "code",
   "execution_count": 27,
   "id": "799b259d",
   "metadata": {},
   "outputs": [],
   "source": [
    "a = 1.5"
   ]
  },
  {
   "cell_type": "code",
   "execution_count": 28,
   "id": "a4860fc9",
   "metadata": {},
   "outputs": [
    {
     "data": {
      "text/plain": [
       "float"
      ]
     },
     "execution_count": 28,
     "metadata": {},
     "output_type": "execute_result"
    }
   ],
   "source": [
    "# dar ejemplos de uso de type\n",
    "type(a)"
   ]
  },
  {
   "cell_type": "markdown",
   "id": "0d02f7e3",
   "metadata": {},
   "source": [
    "**Numeros enteros**:\n",
    "\n",
    "En Python no tenemos limite de formato en cuanto al valor que puede tomar un entero, salvo por la limitacion obvia de memoria disponible. Sin embargo, vamos a trabajar con herramientas que si definen limites para representar estos valores, similares a los que encontramos en los lenguajes de programacion de bajo nivel.\n",
    "\n",
    "Los numeros enteros en general los vamos a trabajar en base decimal, pero en algunos casos puede ser util usar otras bases (binarias, octal, hexadecimal)\n",
    "\n",
    "| Prefijo | Nombre | base |\n",
    "| :---: | :---: | :---: |\n",
    "| 0b | Binaria | 2 |\n",
    "| 0o | Octal | 8 |\n",
    "| 0x | Hexadecimal | 16 |\n",
    "\n",
    "<img src=\"images/binarios.png\" width=\"500\" height=\"200\" />\n"
   ]
  },
  {
   "cell_type": "code",
   "execution_count": 29,
   "id": "5ae614e2",
   "metadata": {},
   "outputs": [
    {
     "data": {
      "text/plain": [
       "int"
      ]
     },
     "execution_count": 29,
     "metadata": {},
     "output_type": "execute_result"
    }
   ],
   "source": [
    "# enteros de python\n",
    "\n",
    "type(1212312412412412)"
   ]
  },
  {
   "cell_type": "code",
   "execution_count": 29,
   "id": "9517cee4",
   "metadata": {},
   "outputs": [
    {
     "data": {
      "text/plain": [
       "100"
      ]
     },
     "execution_count": 29,
     "metadata": {},
     "output_type": "execute_result"
    }
   ],
   "source": [
    "import numpy as np\n",
    "# enteros de numpy\n",
    "np.int16(100)"
   ]
  },
  {
   "cell_type": "code",
   "execution_count": 30,
   "id": "b8a95fe0",
   "metadata": {},
   "outputs": [
    {
     "data": {
      "text/plain": [
       "numpy.int16"
      ]
     },
     "execution_count": 30,
     "metadata": {},
     "output_type": "execute_result"
    }
   ],
   "source": [
    "b = np.int16(100)\n",
    "type(b)"
   ]
  },
  {
   "cell_type": "code",
   "execution_count": 35,
   "id": "dd1f0258",
   "metadata": {},
   "outputs": [],
   "source": [
    "np.int16?"
   ]
  },
  {
   "cell_type": "code",
   "execution_count": 39,
   "id": "e7f44fb9",
   "metadata": {},
   "outputs": [
    {
     "data": {
      "text/plain": [
       "-32767"
      ]
     },
     "execution_count": 39,
     "metadata": {},
     "output_type": "execute_result"
    }
   ],
   "source": [
    "np.int16(32769)"
   ]
  },
  {
   "cell_type": "code",
   "execution_count": null,
   "id": "52d842dd",
   "metadata": {},
   "outputs": [],
   "source": [
    "# probar enteros en bases no decimales"
   ]
  },
  {
   "cell_type": "markdown",
   "id": "b938a58e",
   "metadata": {},
   "source": [
    "**Numeros reales:**\n",
    "Para representarlos usamos numeros de punto flotante. Los numeros en punto flotante se simbolizan con un punto entre la parte entera y decimal. Se pueden definir tambien como notación científica.\n",
    "¿Y los limites? Bueno, para entender donde y de que modo surgen los limites de esta representacion basta con ojear la norma que los define [IEEE 754](https://en.wikipedia.org/wiki/IEEE_754-2008_revision). \n",
    "<img src=\"images/IEEE-754.jpg\" width=\"500\" height=\"200\" />\n",
    "\n",
    "Hay mas cuestiones de la representacion de numero de punto flotante que escapan a los fines de este curso, para los interesados siempre [hay un lugar en la documentacion oficial](https://docs.python.org/3.6/tutorial/floatingpoint.html) en donde profundizar sobre estas cuestiones. "
   ]
  },
  {
   "cell_type": "code",
   "execution_count": 44,
   "id": "4a2084c8",
   "metadata": {},
   "outputs": [],
   "source": [
    "a = 1.0"
   ]
  },
  {
   "cell_type": "code",
   "execution_count": 45,
   "id": "dea9587f",
   "metadata": {},
   "outputs": [
    {
     "data": {
      "text/plain": [
       "float"
      ]
     },
     "execution_count": 45,
     "metadata": {},
     "output_type": "execute_result"
    }
   ],
   "source": [
    "type(a)"
   ]
  },
  {
   "cell_type": "code",
   "execution_count": null,
   "id": "f4d3712e",
   "metadata": {},
   "outputs": [],
   "source": [
    "# cambio del tipo al especificar la coma"
   ]
  },
  {
   "cell_type": "code",
   "execution_count": 3,
   "id": "6f67afa6",
   "metadata": {},
   "outputs": [
    {
     "data": {
      "text/plain": [
       "inf"
      ]
     },
     "execution_count": 3,
     "metadata": {},
     "output_type": "execute_result"
    }
   ],
   "source": [
    "# limite superior 1.79e308\n",
    "1.79e309"
   ]
  },
  {
   "cell_type": "code",
   "execution_count": 50,
   "id": "a787f19e",
   "metadata": {},
   "outputs": [
    {
     "data": {
      "text/plain": [
       "0.0"
      ]
     },
     "execution_count": 50,
     "metadata": {},
     "output_type": "execute_result"
    }
   ],
   "source": [
    "# limite inferior 5e-324\n",
    "5e-325"
   ]
  },
  {
   "cell_type": "markdown",
   "id": "16323e2c",
   "metadata": {},
   "source": [
    "**Complejos**\n",
    "Se especifican por separado la parte real y la parte imaginaria. Se utiliza el caracter reservado j.\n",
    "Tambien se puede usar la funcion reservada *complex()*"
   ]
  },
  {
   "cell_type": "code",
   "execution_count": 61,
   "id": "46336859",
   "metadata": {},
   "outputs": [
    {
     "data": {
      "text/plain": [
       "complex"
      ]
     },
     "execution_count": 61,
     "metadata": {},
     "output_type": "execute_result"
    }
   ],
   "source": [
    "# definicion directa\n",
    "complejo_1 = 1+5j\n",
    "type(complejo)"
   ]
  },
  {
   "cell_type": "code",
   "execution_count": 62,
   "id": "6b098ec4",
   "metadata": {},
   "outputs": [],
   "source": [
    "# funcion complex\n",
    "complejo_2 = complex(5, 1)"
   ]
  },
  {
   "cell_type": "code",
   "execution_count": 63,
   "id": "1407ee1b",
   "metadata": {},
   "outputs": [
    {
     "data": {
      "text/plain": [
       "(1+5j)"
      ]
     },
     "execution_count": 63,
     "metadata": {},
     "output_type": "execute_result"
    }
   ],
   "source": [
    "complejo_1"
   ]
  },
  {
   "cell_type": "code",
   "execution_count": 64,
   "id": "5d650fd8",
   "metadata": {},
   "outputs": [
    {
     "data": {
      "text/plain": [
       "(5+1j)"
      ]
     },
     "execution_count": 64,
     "metadata": {},
     "output_type": "execute_result"
    }
   ],
   "source": [
    "complejo_2"
   ]
  },
  {
   "attachments": {
    "image.png": {
     "image/png": "[encoded data removed]"
    }
   },
   "cell_type": "markdown",
   "id": "1d890512",
   "metadata": {},
   "source": [
    "**Caracteres**\n",
    "En python los caracteres se trabajan como cadenas *(strings)*. Las cadenas no son mas que sucesion de caracteres. Su largo puede ser tanto como nos permita la memoria disponible de nuestra PC. \n",
    "Nos interesan varios aspectos respecto de las cadenas:\n",
    "\n",
    "- Los delimitadores los podemos utilizar a conveniencia. (\" ' \"\"\")\n",
    "- [Secuencias de escape](https://www.python-ds.com/python-3-escape-sequences).\n",
    "- Existen funciones especificas para formatear estas cadenas.\n",
    "- Operadores * y + sobre cadenas\n",
    "- indexacion y slicing de cadenas\n",
    "    - NO se pueden modificar partes por asignacion\n",
    "    \n",
    "    ![image.png](attachment:image.png)\n"
   ]
  },
  {
   "cell_type": "code",
   "execution_count": 67,
   "id": "88940111",
   "metadata": {},
   "outputs": [
    {
     "data": {
      "text/plain": [
       "str"
      ]
     },
     "execution_count": 67,
     "metadata": {},
     "output_type": "execute_result"
    }
   ],
   "source": [
    "# definir 'Cadena'\n",
    "type('Cadena')"
   ]
  },
  {
   "cell_type": "code",
   "execution_count": 76,
   "id": "93733092",
   "metadata": {},
   "outputs": [
    {
     "data": {
      "text/plain": [
       "'en'"
      ]
     },
     "execution_count": 76,
     "metadata": {},
     "output_type": "execute_result"
    }
   ],
   "source": [
    "cadena = 'Cadena'\n",
    "cadena[3:5]"
   ]
  },
  {
   "cell_type": "code",
   "execution_count": 78,
   "id": "dd3ad6bf",
   "metadata": {},
   "outputs": [
    {
     "data": {
      "text/plain": [
       "'a'"
      ]
     },
     "execution_count": 78,
     "metadata": {},
     "output_type": "execute_result"
    }
   ],
   "source": [
    "cadena[len(cadena)-1]"
   ]
  },
  {
   "cell_type": "code",
   "execution_count": 77,
   "id": "546a9499",
   "metadata": {},
   "outputs": [
    {
     "data": {
      "text/plain": [
       "6"
      ]
     },
     "execution_count": 77,
     "metadata": {},
     "output_type": "execute_result"
    }
   ],
   "source": [
    "len(cadena)"
   ]
  },
  {
   "cell_type": "code",
   "execution_count": 90,
   "id": "2cca7236",
   "metadata": {},
   "outputs": [
    {
     "name": "stdout",
     "output_type": "stream",
     "text": [
      "Esto es \t una cadena\n"
     ]
    }
   ],
   "source": [
    "# Secuencias de escape en las cadenas\n",
    "print('Esto es \\t una cadena')"
   ]
  },
  {
   "cell_type": "code",
   "execution_count": 96,
   "id": "1a599631",
   "metadata": {},
   "outputs": [
    {
     "name": "stdout",
     "output_type": "stream",
     "text": [
      "El resultado es: 5 5 5\n"
     ]
    }
   ],
   "source": [
    "# Formatear cadenas\n",
    "resultado = 5\n",
    "print('El resultado es: {} {} {}'.format(resultado, resultado, resultado))"
   ]
  },
  {
   "cell_type": "code",
   "execution_count": 100,
   "id": "f146c56d",
   "metadata": {},
   "outputs": [
    {
     "name": "stdout",
     "output_type": "stream",
     "text": [
      "a ver como se imprime este --> \" <-- caracter\n"
     ]
    }
   ],
   "source": [
    "# Separadores a conveniencia -- Raw strings\n",
    "print('a ver como se imprime este --> \" <-- caracter')"
   ]
  },
  {
   "cell_type": "code",
   "execution_count": 105,
   "id": "34ae2139",
   "metadata": {},
   "outputs": [
    {
     "data": {
      "text/plain": [
       "'JajaJajaJajaJajaJaja'"
      ]
     },
     "execution_count": 105,
     "metadata": {},
     "output_type": "execute_result"
    }
   ],
   "source": [
    "# operadores * y +\n",
    "'Jaja'*5"
   ]
  },
  {
   "cell_type": "markdown",
   "id": "e7fd7833",
   "metadata": {},
   "source": [
    "**Booleanos**\n",
    "\n",
    "True y False\n",
    "\n",
    "Lo interesante aca es que tipos de datos NO BOOLEANOS pueden ser evaluados en un contexto booleano mediante operadores logicos (mas de esto en las proximas celdas!)\n"
   ]
  },
  {
   "cell_type": "code",
   "execution_count": 108,
   "id": "fda634b6",
   "metadata": {},
   "outputs": [
    {
     "data": {
      "text/plain": [
       "bool"
      ]
     },
     "execution_count": 108,
     "metadata": {},
     "output_type": "execute_result"
    }
   ],
   "source": [
    "type(False)"
   ]
  },
  {
   "cell_type": "markdown",
   "id": "e8abad1d",
   "metadata": {},
   "source": [
    "## Funciones Integradas\n",
    "Como siempre, tenemos [una seccion dentro de la documentacion oficial de Python](https://docs.python.org/3/library/functions.html) que nos da informacion sobre estas funciones integradas. Todavia no vimos formalmente el concepto de funcion, pero esta primera introduccion sirve para formar conceptos primitivos. \n",
    "Algunas de las funciones integradas que nos seran mas útiles son:\n",
    "- type()\n",
    "- len()\n",
    "- help()\n",
    "- divmod()\n",
    "- pow()\n",
    "- round()\n",
    "- range()\n",
    "- max()\n",
    "- sum()\n"
   ]
  },
  {
   "cell_type": "code",
   "execution_count": 109,
   "id": "6d55a1f3",
   "metadata": {},
   "outputs": [
    {
     "name": "stdout",
     "output_type": "stream",
     "text": [
      "Help on built-in function print in module builtins:\n",
      "\n",
      "print(...)\n",
      "    print(value, ..., sep=' ', end='\\n', file=sys.stdout, flush=False)\n",
      "    \n",
      "    Prints the values to a stream, or to sys.stdout by default.\n",
      "    Optional keyword arguments:\n",
      "    file:  a file-like object (stream); defaults to the current sys.stdout.\n",
      "    sep:   string inserted between values, default a space.\n",
      "    end:   string appended after the last value, default a newline.\n",
      "    flush: whether to forcibly flush the stream.\n",
      "\n"
     ]
    }
   ],
   "source": [
    "help(print)"
   ]
  },
  {
   "cell_type": "code",
   "execution_count": 4,
   "id": "0abe974a",
   "metadata": {},
   "outputs": [],
   "source": [
    "print?"
   ]
  },
  {
   "cell_type": "code",
   "execution_count": null,
   "id": "4642ef3a",
   "metadata": {},
   "outputs": [],
   "source": []
  },
  {
   "cell_type": "markdown",
   "id": "3f441424",
   "metadata": {},
   "source": [
    "## Operadores\n",
    "- Comparacion\n",
    "|   Operation  |          Meaning         |\n",
    "|:------------:|:------------------------:|\n",
    "| <            | strictly less than       |\n",
    "| <=           | less than or equal       |\n",
    "| >            | strictly greater than    |\n",
    "| >=           | greater than or equal    |\n",
    "| ==           | equal                    |\n",
    "| !=           | not equal                |\n",
    "| in           | in iterable          |\n",
    "\n",
    "\n"
   ]
  },
  {
   "cell_type": "code",
   "execution_count": 118,
   "id": "f5a50649",
   "metadata": {},
   "outputs": [
    {
     "data": {
      "text/plain": [
       "False"
      ]
     },
     "execution_count": 118,
     "metadata": {},
     "output_type": "execute_result"
    }
   ],
   "source": []
  },
  {
   "cell_type": "markdown",
   "id": "758ab9f9",
   "metadata": {},
   "source": [
    "- Logica\n",
    "\n",
    "| Operation |                Result                |\n",
    "|:---------:|:------------------------------------:|\n",
    "|   x or y  |     if x is false, then y, else x    |\n",
    "|  x and y  |     if x is false, then x, else y    |\n",
    "|   not x   | if x is false, then True, else False |\n",
    "\n"
   ]
  },
  {
   "cell_type": "code",
   "execution_count": 121,
   "id": "68fbae32",
   "metadata": {},
   "outputs": [
    {
     "data": {
      "text/plain": [
       "True"
      ]
     },
     "execution_count": 121,
     "metadata": {},
     "output_type": "execute_result"
    }
   ],
   "source": [
    "a = 6 \n",
    "\n",
    "(a > 5) and (a < 7)\n"
   ]
  },
  {
   "cell_type": "code",
   "execution_count": 124,
   "id": "ce7c3594",
   "metadata": {},
   "outputs": [
    {
     "data": {
      "text/plain": [
       "True"
      ]
     },
     "execution_count": 124,
     "metadata": {},
     "output_type": "execute_result"
    }
   ],
   "source": [
    "a = 10\n",
    "not (a < 7)"
   ]
  },
  {
   "cell_type": "markdown",
   "id": "251aa723",
   "metadata": {},
   "source": [
    "- Numericas\n",
    "\n",
    "|    Operation    |                                    Result                                   |\n",
    "|:---------------:|:---------------------------------------------------------------------------:|\n",
    "|      x + y      |                                sum of x and y                               |\n",
    "|      x - y      |                            difference of x and y                            |\n",
    "|      x * y      |                              product of x and y                             |\n",
    "|      x / y      |                             quotient of x and y                             |\n",
    "|      x // y     |                         floored quotient of x and y                         |\n",
    "|      x % y      |                              remainder of x / y                             |\n",
    "|        -x       |                                  x negated                                  |\n",
    "|        +x       |                                 x unchanged                                 |\n",
    "|      abs(x)     |                       absolute value or magnitude of x                      |\n",
    "|      int(x)     |                            x converted to integer                           |\n",
    "|     float(x)    |                        x converted to floating point                        |\n",
    "| complex(re, im) | a complex number with real part re, imaginary part im. im defaults to zero. |\n",
    "|  c.conjugate()  |                      conjugate of the complex number c                      |\n",
    "|   divmod(x, y)  |                           the pair (x // y, x % y)                          |\n",
    "|    pow(x, y)    |                               x to the power y                              |\n",
    "|      x ** y     |                               x to the power y                              |\n",
    "\n",
    "**dato de color, hay operadores especiales para trabajar con cadenas de bits*"
   ]
  },
  {
   "cell_type": "code",
   "execution_count": 129,
   "id": "21c29dd4",
   "metadata": {},
   "outputs": [
    {
     "data": {
      "text/plain": [
       "1"
      ]
     },
     "execution_count": 129,
     "metadata": {},
     "output_type": "execute_result"
    }
   ],
   "source": []
  },
  {
   "cell_type": "markdown",
   "id": "ab2bb95c",
   "metadata": {},
   "source": [
    "## Modulos\n",
    "\n",
    "\n",
    "Para aquellas funciones que **no estan dentro de la librería estandar, se utilizan módulos, archivos Python **.py** que constan de código Python**. Un módulo puede definir funciones, clases y variables, ademas puede incluir código ejecutable. Se puede hacer referencia a cualquier archivo de Python como un módulo. Un archivo de Python llamado hello.py tiene el nombre de módulo \"\"hello\" que se puede importar a otros archivos de Python o utilizar en el intérprete de línea de comandos de Python. Estos módulos, a la vez, pueden formar parte de **paquetes**. Un paquete, **es una carpeta que contiene archivos .py**, pero para que una carpeta pueda ser considerada un paquete, debe **contener un archivo de inicio llamado __init__.py**. \n",
    "\n",
    "### ¿Por que usar paquetes de modulos?\n",
    "\n",
    "Proveen una manera fácil de organizar los componentes de software de un sistema, utilizando el concepto de **namespaces** (en Python, un namespace, es el nombre que se ha indicado luego de la palabra `import`, es decir la ruta **namespace** del módulo)\n",
    "\n",
    "**Ventajas:**\n",
    "\n",
    "* Reutilización de código: diseño modular de software.\n",
    "* Particionamiento del namespace: agrupa nombres por funcionalidad.\n",
    "\n",
    "**Estructura de un programa en Python:**\n",
    "\n",
    "* Un archivo top-level\n",
    "* Uno o más archivos suplemetarios, conocidos como módulos\n",
    "\n",
    "Una declaración de `import`  se compone de la palabra clave `import`  junto con el nombre del módulo.\n",
    "\n",
    "Cuando importamos un módulo, lo estamos poniendo a nuestra disposición en nuestro programa actual referenciandolo a la función en notación de punto, como **[module].[function]**.\n",
    "\n",
    "\n",
    "\n",
    "Para continuar aprendiendo de modulos ir al siguiente [link](http://librosweb.es/libro/python/capitulo_3.html).\n",
    "\n",
    "EN RESUMEN:\n",
    "- Palabra reservada import\n",
    "- Todos los archivos son módulos\n",
    "- Los módulos se agrupan formando paquetes \n",
    "- Modalidad de trabajo - Estructura de un programa"
   ]
  },
  {
   "cell_type": "code",
   "execution_count": 132,
   "id": "276d370f",
   "metadata": {},
   "outputs": [
    {
     "data": {
      "text/plain": [
       "23"
      ]
     },
     "execution_count": 132,
     "metadata": {},
     "output_type": "execute_result"
    }
   ],
   "source": [
    "import numpy as np\n",
    "import matplotlib.pyplot as plt\n",
    "\n",
    "numpy.int16(23)"
   ]
  },
  {
   "cell_type": "markdown",
   "id": "b9875a1c",
   "metadata": {},
   "source": [
    "# Estructuras de datos : Listas\n",
    "\n",
    "- Coleccion de datos de cualquier tipo\n",
    "- Operaciones entre listas (similares a cadenas)\n",
    "- Elementos mutables (distinto a las cadenas)\n",
    "- Acceso multiple\n",
    "- Referencias compartidas - metodo copy"
   ]
  },
  {
   "cell_type": "code",
   "execution_count": 137,
   "id": "7f7cec72",
   "metadata": {},
   "outputs": [],
   "source": [
    "#lista vacia\n",
    "milista = []\n",
    "#lista homogenea\n",
    "milista = [1,2,3]\n",
    "#lista heterogenea\n",
    "milista = [1, 'asd', 1.43]\n",
    "#lista de listas"
   ]
  },
  {
   "cell_type": "code",
   "execution_count": 139,
   "id": "e815a3e3",
   "metadata": {},
   "outputs": [],
   "source": [
    "milista = [1, 2, 3 ,4]"
   ]
  },
  {
   "cell_type": "code",
   "execution_count": 141,
   "id": "05044ccd",
   "metadata": {},
   "outputs": [
    {
     "data": {
      "text/plain": [
       "[100, 2, 3, 4]"
      ]
     },
     "execution_count": 141,
     "metadata": {},
     "output_type": "execute_result"
    }
   ],
   "source": [
    "milista"
   ]
  },
  {
   "cell_type": "code",
   "execution_count": 143,
   "id": "1a5e2918",
   "metadata": {},
   "outputs": [],
   "source": [
    "# append\n",
    "dias = ['lunes', 'martes']"
   ]
  },
  {
   "cell_type": "code",
   "execution_count": 144,
   "id": "8376b706",
   "metadata": {},
   "outputs": [],
   "source": [
    "dias.append('miercoles')"
   ]
  },
  {
   "cell_type": "code",
   "execution_count": 145,
   "id": "0a23e8b1",
   "metadata": {},
   "outputs": [
    {
     "data": {
      "text/plain": [
       "['lunes', 'martes', 'miercoles']"
      ]
     },
     "execution_count": 145,
     "metadata": {},
     "output_type": "execute_result"
    }
   ],
   "source": [
    "dias"
   ]
  },
  {
   "cell_type": "code",
   "execution_count": 146,
   "id": "4b5380ef",
   "metadata": {},
   "outputs": [],
   "source": [
    "# del\n",
    "del dias[-1]"
   ]
  },
  {
   "cell_type": "code",
   "execution_count": 147,
   "id": "f199dd8e",
   "metadata": {},
   "outputs": [
    {
     "data": {
      "text/plain": [
       "['lunes', 'martes']"
      ]
     },
     "execution_count": 147,
     "metadata": {},
     "output_type": "execute_result"
    }
   ],
   "source": [
    "dias"
   ]
  },
  {
   "cell_type": "code",
   "execution_count": 162,
   "id": "978c4216",
   "metadata": {},
   "outputs": [],
   "source": [
    "# referencias compartidas\n",
    "hoy = ['meza', 'massolo', 'diaz']"
   ]
  },
  {
   "cell_type": "code",
   "execution_count": 163,
   "id": "014697e4",
   "metadata": {},
   "outputs": [],
   "source": [
    "maniana = hoy.copy()"
   ]
  },
  {
   "cell_type": "code",
   "execution_count": 164,
   "id": "3540503a",
   "metadata": {},
   "outputs": [
    {
     "data": {
      "text/plain": [
       "['meza', 'massolo', 'diaz']"
      ]
     },
     "execution_count": 164,
     "metadata": {},
     "output_type": "execute_result"
    }
   ],
   "source": [
    "maniana"
   ]
  },
  {
   "cell_type": "code",
   "execution_count": 165,
   "id": "ae259f61",
   "metadata": {},
   "outputs": [],
   "source": [
    "del maniana[-1]"
   ]
  },
  {
   "cell_type": "code",
   "execution_count": 166,
   "id": "6032f3f7",
   "metadata": {},
   "outputs": [
    {
     "data": {
      "text/plain": [
       "['meza', 'massolo']"
      ]
     },
     "execution_count": 166,
     "metadata": {},
     "output_type": "execute_result"
    }
   ],
   "source": [
    "maniana"
   ]
  },
  {
   "cell_type": "code",
   "execution_count": 167,
   "id": "59e4d8de",
   "metadata": {},
   "outputs": [
    {
     "data": {
      "text/plain": [
       "['meza', 'massolo', 'diaz']"
      ]
     },
     "execution_count": 167,
     "metadata": {},
     "output_type": "execute_result"
    }
   ],
   "source": [
    "hoy"
   ]
  },
  {
   "cell_type": "markdown",
   "id": "7348233a",
   "metadata": {},
   "source": [
    "# Arrays\n",
    "Numpy es la librería dedicada a manipular datos numéricos, ya sea en forma de vectores, matrices u otras estructuras.\n",
    "\n",
    "El objeto principal con el que se trabaja en numpy es un **array** de una o varias dimensiones. El mismo contiene elementos, en general de formato numérico.  Se pueden definir las siguientes características para un array de numpy:\n",
    "\n",
    "* Los elementos que lo componen son todos de un mismo tipo o formato.\n",
    "* Cuenta con una longitud, igual a la cantidad de elementos que contiene por fila; y una cantidad de ejes o dimensiones, igual a la cantidad de filas que contiene.\n",
    "* Cada elemento del array posee un índice que denota su ubicación dentro del mismo.\n",
    "\n",
    "Para utilizar Numpy en nuestro código, primero debemos importarla utilizando el comando `import numpy`.  Por convención se la importa con el alias **np** ingresando `import numpy as np`. \n",
    "\n",
    "Una vez importada la librería, podemos crear un array de datos. Para hacerlo, utilizamos el objeto `numpy.array` de la siguiente manera:"
   ]
  },
  {
   "cell_type": "code",
   "execution_count": 170,
   "id": "78fc817b",
   "metadata": {},
   "outputs": [
    {
     "data": {
      "text/plain": [
       "numpy.ndarray"
      ]
     },
     "execution_count": 170,
     "metadata": {},
     "output_type": "execute_result"
    }
   ],
   "source": [
    "# crear un array\n",
    "import numpy as np\n",
    "arr = np.array([1,2,3])\n",
    "type(arr)"
   ]
  },
  {
   "cell_type": "code",
   "execution_count": null,
   "id": "199ea681",
   "metadata": {},
   "outputs": [],
   "source": [
    "# crear un array a partir de una lista"
   ]
  },
  {
   "cell_type": "markdown",
   "id": "0d61e53f",
   "metadata": {},
   "source": [
    "Para representar señales es conveniente crear un vector tiempo sobre el cual vamos a representar la señal. Este vector (y la señal representada) consisitirán en un conjunto finito de valores. En numpy tenemos acceso a dos funciones que facilitan la creación de vectores para este propósito.\n",
    "\n",
    " * `np.linspace`\n",
    " * `np.arange`"
   ]
  },
  {
   "cell_type": "code",
   "execution_count": 173,
   "id": "a08d2edc",
   "metadata": {},
   "outputs": [
    {
     "data": {
      "text/plain": [
       "array([ 0.        ,  1.11111111,  2.22222222,  3.33333333,  4.44444444,\n",
       "        5.55555556,  6.66666667,  7.77777778,  8.88888889, 10.        ])"
      ]
     },
     "execution_count": 173,
     "metadata": {},
     "output_type": "execute_result"
    }
   ],
   "source": [
    "#ejemplos de linspace y arange\n",
    "np.linspace(0,10,10)"
   ]
  },
  {
   "cell_type": "code",
   "execution_count": 176,
   "id": "22631e13",
   "metadata": {},
   "outputs": [
    {
     "data": {
      "text/plain": [
       "array([0. , 0.2, 0.4, 0.6, 0.8, 1. , 1.2, 1.4, 1.6, 1.8, 2. , 2.2, 2.4,\n",
       "       2.6, 2.8, 3. , 3.2, 3.4, 3.6, 3.8, 4. , 4.2, 4.4, 4.6, 4.8, 5. ,\n",
       "       5.2, 5.4, 5.6, 5.8, 6. , 6.2, 6.4, 6.6, 6.8, 7. , 7.2, 7.4, 7.6,\n",
       "       7.8, 8. , 8.2, 8.4, 8.6, 8.8, 9. , 9.2, 9.4, 9.6, 9.8])"
      ]
     },
     "execution_count": 176,
     "metadata": {},
     "output_type": "execute_result"
    }
   ],
   "source": [
    "np.arange(0, 10, 1/5)"
   ]
  },
  {
   "cell_type": "markdown",
   "id": "68bce496",
   "metadata": {},
   "source": [
    "# Estructuras de control de flujo\n",
    "- Condicionales\n",
    "    - If, else, elif(else if)\n",
    "Vamos a ocupar operadores de comparacion para formular las condiciones, y operadores logicos para relacionar mas de una condicion"
   ]
  },
  {
   "cell_type": "code",
   "execution_count": 178,
   "id": "ce95a88e",
   "metadata": {},
   "outputs": [
    {
     "name": "stdout",
     "output_type": "stream",
     "text": [
      "Es mayor a tres\n"
     ]
    }
   ],
   "source": [
    "#if simple --> numero par\n",
    "a = 5\n",
    "if a > 3:\n",
    "    print('Es mayor a tres')\n",
    "elif:\n",
    "    print('No es mayor a tres')\n",
    "elif "
   ]
  },
  {
   "cell_type": "code",
   "execution_count": null,
   "id": "1cd71a2d",
   "metadata": {},
   "outputs": [],
   "source": []
  },
  {
   "cell_type": "code",
   "execution_count": null,
   "id": "f990a7c6",
   "metadata": {},
   "outputs": [],
   "source": [
    "#if-elif-else"
   ]
  },
  {
   "cell_type": "markdown",
   "id": "9eff5192",
   "metadata": {},
   "source": [
    "- Iterativas\n",
    "    - For, While\n",
    "<img src=\"images/bucles.jpeg\" width=\"500\" height=\"100\" />"
   ]
  },
  {
   "cell_type": "code",
   "execution_count": 181,
   "id": "bcfeb554",
   "metadata": {},
   "outputs": [
    {
     "name": "stdout",
     "output_type": "stream",
     "text": [
      "0\n",
      "1\n",
      "2\n",
      "3\n",
      "4\n",
      "5\n"
     ]
    }
   ],
   "source": [
    "#for ---> tenemos un numero definido de iteraciones\n",
    "milista = [0,1,2,3,4,5]\n",
    "\n",
    "for valor in milista:\n",
    "    print(valor)"
   ]
  },
  {
   "cell_type": "code",
   "execution_count": 180,
   "id": "60e81bd2",
   "metadata": {},
   "outputs": [
    {
     "name": "stdout",
     "output_type": "stream",
     "text": [
      "0\n",
      "1\n",
      "2\n",
      "3\n",
      "4\n",
      "5\n"
     ]
    }
   ],
   "source": [
    "#while ---> tenemos un limite de iteraciones por condicion\n",
    "contador = 0\n",
    "while contador < 6:\n",
    "    print(contador)\n",
    "    contador = contador + 1 "
   ]
  },
  {
   "cell_type": "code",
   "execution_count": null,
   "id": "38081ac1",
   "metadata": {},
   "outputs": [],
   "source": [
    "#comparacion for-while para un bucle simple"
   ]
  },
  {
   "cell_type": "markdown",
   "id": "c72d5454",
   "metadata": {},
   "source": [
    "Porque los WHILE tienen mala fama? \n",
    "- Al depender de una condicion logica para definir donde detenerse, es facil cometer errores que terminen en bucles infinitos\n",
    "- Son un problema a la hora de paralelizar la ejecucion\n",
    "\n",
    "Como regla basica, vamos a preferir siempre la implementacion en la estructura FOR. Hay otras cuestiones referidas al uso de bucles en Python, respecto a que suelen ser utilizados unicamente cuando no hay otra alternativa por el hecho de que su implementacion resulta ineficiente por la forma en la que trabaja el interprete. Por ahora, no nos vamos a preocupar por estas cuestiones de optimizacion mas complejas. "
   ]
  },
  {
   "cell_type": "markdown",
   "id": "a4571dee",
   "metadata": {},
   "source": [
    "Para ponernos formales, darnos un poco de animo y tener una idea de la potencia de las herramientas con las que contamos hasta acá, cabe destacar que con la estructura de *lista* y los ciclos *if* y *while*, Python es un lenguaje **Turing-completo**. Es decir, que estas herramientas nos bastan para implementar cualquier algoritmo existente. Sin embargo, continuaremos viendo herramientas que nos serviran para las aplicaciones que pretendemos abarcar."
   ]
  },
  {
   "cell_type": "code",
   "execution_count": null,
   "id": "08b33386",
   "metadata": {},
   "outputs": [],
   "source": [
    "# Primer ejercicio juntos - Imprimir si un numero es par o impar \n",
    "\n",
    "num = 102 #entrada"
   ]
  },
  {
   "cell_type": "markdown",
   "id": "8ec943af",
   "metadata": {},
   "source": [
    "# Algunos consejos! \n",
    "- Ejercicos.\n",
    "- Cheat sheets.\n",
    "- Ejercicios y pruebas.\n",
    "- Aunque no parezca, la documentacion esta para ayudarnos.\n",
    "- Ejercicios.\n",
    "- LLevenlo para la parte de su interes."
   ]
  },
  {
   "cell_type": "markdown",
   "id": "55779ce9",
   "metadata": {},
   "source": [
    "## ¿Qué sigue?\n",
    "Vamos a repasar los conceptos generales del editor de codigo Spyder para entender estas dos herramientas y poder ponernos a trabajar en los ejercicios propuestos."
   ]
  },
  {
   "cell_type": "code",
   "execution_count": null,
   "id": "6e9073ef",
   "metadata": {},
   "outputs": [],
   "source": []
  }
 ],
 "metadata": {
  "kernelspec": {
   "display_name": "Python 3",
   "language": "python",
   "name": "python3"
  },
  "language_info": {
   "codemirror_mode": {
    "name": "ipython",
    "version": 3
   },
   "file_extension": ".py",
   "mimetype": "text/x-python",
   "name": "python",
   "nbconvert_exporter": "python",
   "pygments_lexer": "ipython3",
   "version": "3.8.8"
  }
 },
 "nbformat": 4,
 "nbformat_minor": 5
}

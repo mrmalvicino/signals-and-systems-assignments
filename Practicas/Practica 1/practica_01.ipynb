{
 "cells": [
  {
   "cell_type": "markdown",
   "id": "collectible-benjamin",
   "metadata": {},
   "source": [
    "# PRACTICA 1:   SCRIPT EN SPYDER, LIBRERÍA NUMPY, NUMEROS COMPLEJOS, FUNCIONES TRIGONOMÉTRICAS Y ARREGLOS.\n",
    " \n",
    "## INTRODUCCIÓN\n",
    "\n",
    "Para hacer esta práctica, se asumirá que ha leído todo el material introductorio de Python, sintaxis básica, librerías y manejo de Jupyter Notebook. Si tiene alguna duda, puede resolverla buscando la información en los documentos anteriormente suministrados.\n",
    "\n",
    "**NOTA: Uso de 'restart and clear output' para trabajar con Notebooks** \n",
    "\t\n",
    "## OBJETIVOS\n",
    "\n",
    "    1. Conocer los principios básicos de operación de Python.\n",
    "    2. Aprender a crear scripts usando el menú y las ventanas de Spyder.\n",
    "    3. Importar la librería NumPy. \n",
    "    4. Manejar funciones trigonométricas básicas, números complejos y funciones varias (sign).\n",
    "    5. Crear, acceder y manipular  arreglos\n",
    "    6. Entender las estructuras condicionales de control de flujo\n",
    "    7. Generar una señal sinusoidal"
   ]
  },
  {
   "cell_type": "markdown",
   "id": "impossible-companion",
   "metadata": {},
   "source": [
    "# PARTE EXPERIMENTAL\n",
    "En Spyder cree un nuevo archivo llamado `Practica_1_SyS.py`.  \n",
    "Vaya creando sectores o celdas con las instrucciones que se irán colocando en este enunciado. Usando `#%%` separa las celdas o grupos. Ejecútelas para **verificar** su *funcionamiento*.\n",
    "\n",
    "Comenzaremos importando la librería NumPy."
   ]
  },
  {
   "cell_type": "code",
   "execution_count": 1,
   "id": "correct-preparation",
   "metadata": {},
   "outputs": [],
   "source": [
    "import numpy as np   # numpy se usa para la manipulación de vectores y matrices"
   ]
  },
  {
   "cell_type": "markdown",
   "id": "entire-indie",
   "metadata": {},
   "source": [
    "### NÚMEROS COMPLEJOS\n",
    "\n",
    "Se genera el número complejo $2+3j$ de 2 formas diferentes. Se pueden representar números complejos usando la letra $i$ o la letra $j$"
   ]
  },
  {
   "cell_type": "code",
   "execution_count": 2,
   "id": "educational-franklin",
   "metadata": {},
   "outputs": [],
   "source": [
    "zc1 = 2+3j\n",
    "zc2 = complex(2,3)"
   ]
  },
  {
   "cell_type": "markdown",
   "id": "german-thinking",
   "metadata": {},
   "source": [
    "Se imprime en pantalla la pregunta de si las 2 representaciones representan al mismo número y se plantea la comparación de las dos variable `zc1` y `zc2`."
   ]
  },
  {
   "cell_type": "code",
   "execution_count": 3,
   "id": "restricted-tiger",
   "metadata": {},
   "outputs": [
    {
     "name": "stdout",
     "output_type": "stream",
     "text": [
      "zc1 = zc2?  True\n"
     ]
    }
   ],
   "source": [
    "print('zc1 = zc2? ', (zc1 == zc2))"
   ]
  },
  {
   "cell_type": "markdown",
   "id": "silent-repair",
   "metadata": {},
   "source": [
    "Se determinanla parte real, la parte imaginaria, la fase (en radianes) y el complejo conjugado de `zc1`, y se almacenan en diversas variables."
   ]
  },
  {
   "cell_type": "code",
   "execution_count": 4,
   "id": "normal-expansion",
   "metadata": {},
   "outputs": [],
   "source": [
    "zc1_real = np.real(zc1)\n",
    "zc1_imag = np.imag(zc1)\n",
    "zc1_angulo = np.angle(zc1)\n",
    "zc1_conj = np.conj(zc1)"
   ]
  },
  {
   "cell_type": "markdown",
   "id": "infrared-parts",
   "metadata": {},
   "source": [
    "Se imprimen todas esas nuevas variables"
   ]
  },
  {
   "cell_type": "code",
   "execution_count": 5,
   "id": "unique-strength",
   "metadata": {},
   "outputs": [
    {
     "name": "stdout",
     "output_type": "stream",
     "text": [
      "(2+3j)\n",
      "parte real:  2.0\n",
      "parte imaginaria:  3.0\n",
      "angulo en radianes:  0.982793723247329\n",
      "complejo conjugado:  (2-3j)\n"
     ]
    }
   ],
   "source": [
    "print(zc1)\n",
    "print('parte real: ', zc1_real)\n",
    "print('parte imaginaria: ', zc1_imag)\n",
    "print('angulo en radianes: ', zc1_angulo)\n",
    "print('complejo conjugado: ', zc1_conj)"
   ]
  },
  {
   "cell_type": "markdown",
   "id": "daily-relations",
   "metadata": {},
   "source": [
    "#### Ejercicios"
   ]
  },
  {
   "cell_type": "markdown",
   "id": "revised-evidence",
   "metadata": {},
   "source": [
    "★☆☆☆☆ - 1.01) Investigue si hay alguna función de numpy que nos devuelva la magnitud del número complejo:"
   ]
  },
  {
   "cell_type": "code",
   "execution_count": 6,
   "id": "secret-world",
   "metadata": {},
   "outputs": [],
   "source": [
    "# COMPLETAR:"
   ]
  },
  {
   "cell_type": "markdown",
   "id": "cardiovascular-norwegian",
   "metadata": {},
   "source": [
    "★☆☆☆☆ - 1.02) Cree dos números complejos, opere entre ellos y muestre los resultados:"
   ]
  },
  {
   "cell_type": "code",
   "execution_count": 7,
   "id": "moved-burns",
   "metadata": {},
   "outputs": [
    {
     "ename": "SyntaxError",
     "evalue": "invalid syntax (Temp/ipykernel_12372/2212347447.py, line 2)",
     "output_type": "error",
     "traceback": [
      "\u001b[1;36m  File \u001b[1;32m\"C:\\Users\\Admin\\AppData\\Local\\Temp/ipykernel_12372/2212347447.py\"\u001b[1;36m, line \u001b[1;32m2\u001b[0m\n\u001b[1;33m    z1 =\u001b[0m\n\u001b[1;37m         ^\u001b[0m\n\u001b[1;31mSyntaxError\u001b[0m\u001b[1;31m:\u001b[0m invalid syntax\n"
     ]
    }
   ],
   "source": [
    "# COMPLETAR:\n",
    "z1 = \n",
    "z2 = \n",
    "\n",
    "suma = \n",
    "resta = \n",
    "multiplicacion = \n",
    "division = \n",
    "\n",
    "print('Suma: ', )\n",
    "print('Resta: ', )\n",
    "print('Multiplicacion: ', )\n",
    "print('Division: ', )"
   ]
  },
  {
   "cell_type": "markdown",
   "id": "apart-addiction",
   "metadata": {},
   "source": [
    "### Algunas constantes útiles incluidas en Numpy"
   ]
  },
  {
   "cell_type": "code",
   "execution_count": null,
   "id": "initial-information",
   "metadata": {},
   "outputs": [],
   "source": [
    "print(np.pi)\n",
    "print(np.e)\n",
    "print(np.inf)"
   ]
  },
  {
   "cell_type": "markdown",
   "id": "christian-frost",
   "metadata": {},
   "source": [
    "### Más operaciones con complejos\n",
    "\n",
    "A continuación se incluyen algunos ejemplos:"
   ]
  },
  {
   "cell_type": "code",
   "execution_count": null,
   "id": "alive-quantum",
   "metadata": {},
   "outputs": [],
   "source": [
    "c = 1 + 2j\n",
    "\n",
    "print('e^c =', np.exp(c))\n",
    "print('log_natural(c) =', np.log(c))\n",
    "print('log10(c) =', np.log10(c))"
   ]
  },
  {
   "cell_type": "markdown",
   "id": "demonstrated-athens",
   "metadata": {},
   "source": [
    "Pruebe calcular el logaritmo de 0, ¿Qué resultado devuelve? ¿Y el de infinito?"
   ]
  },
  {
   "cell_type": "code",
   "execution_count": null,
   "id": "original-fifteen",
   "metadata": {},
   "outputs": [],
   "source": [
    "# Completar"
   ]
  },
  {
   "cell_type": "markdown",
   "id": "miniature-convention",
   "metadata": {},
   "source": [
    "### ARREGLOS, MATRICES, VECTORES\n",
    "\n",
    "Creamos un arreglo (matriz de 2x3) usando la función `np.array`"
   ]
  },
  {
   "cell_type": "code",
   "execution_count": null,
   "id": "incredible-improvement",
   "metadata": {},
   "outputs": [],
   "source": [
    "c = np.array([[1, 5, 2],[3, 4, 8]])"
   ]
  },
  {
   "cell_type": "markdown",
   "id": "scenic-aggregate",
   "metadata": {},
   "source": [
    "Se determina y almacena su traspuesta"
   ]
  },
  {
   "cell_type": "code",
   "execution_count": null,
   "id": "early-planning",
   "metadata": {},
   "outputs": [],
   "source": [
    "c_traspuesta = np.transpose(c)"
   ]
  },
  {
   "cell_type": "markdown",
   "id": "developing-perspective",
   "metadata": {},
   "source": [
    "Se imprimen. El caracter `\\n` sirve para generar un salto de línea"
   ]
  },
  {
   "cell_type": "code",
   "execution_count": null,
   "id": "irish-bacon",
   "metadata": {},
   "outputs": [],
   "source": [
    "print('matriz c: \\n', c)\n",
    "print('matriz c traspuesta: \\n', c_traspuesta)"
   ]
  },
  {
   "cell_type": "markdown",
   "id": "blind-monitoring",
   "metadata": {},
   "source": [
    "Accederemos a la segunda fila de esta matriz"
   ]
  },
  {
   "cell_type": "code",
   "execution_count": null,
   "id": "square-network",
   "metadata": {},
   "outputs": [],
   "source": [
    "F2 = c[1,:]\n",
    "print('Accediendo a valores en la matriz:')\n",
    "print('Segunda fila:')\n",
    "print(F2)"
   ]
  },
  {
   "cell_type": "markdown",
   "id": "brown-oasis",
   "metadata": {},
   "source": [
    "★☆☆☆☆ - 1.03) Use la función **shape** de Numpy para ver las dimensiones de la matriz c. Recuerde que puedeusar el help de la misma para ver cómo es su uso."
   ]
  },
  {
   "cell_type": "code",
   "execution_count": null,
   "id": "accurate-investing",
   "metadata": {},
   "outputs": [],
   "source": []
  },
  {
   "cell_type": "markdown",
   "id": "patient-niagara",
   "metadata": {},
   "source": [
    "★☆☆☆☆ - 1.04) Muestre los elementos de la columna 2 de la matriz, basándose en lo realizado"
   ]
  },
  {
   "cell_type": "code",
   "execution_count": null,
   "id": "distinct-entrance",
   "metadata": {},
   "outputs": [],
   "source": []
  },
  {
   "cell_type": "markdown",
   "id": "golden-judge",
   "metadata": {},
   "source": [
    "### ARREGLOS, LISTAS, VECTORES"
   ]
  },
  {
   "cell_type": "markdown",
   "id": "suffering-pleasure",
   "metadata": {},
   "source": [
    "Creamos un array(vector) basado en una lista"
   ]
  },
  {
   "cell_type": "code",
   "execution_count": null,
   "id": "medical-egyptian",
   "metadata": {},
   "outputs": [],
   "source": [
    "x = [1, 2, 3, 4]    # esto es una lista\n",
    "x = np.array([1,2,3,4])  # se crea el  array usando una lista\n",
    "print('Array o vector: ')\n",
    "print(x)"
   ]
  },
  {
   "cell_type": "markdown",
   "id": "fifteen-formation",
   "metadata": {},
   "source": [
    "Accedemos a determinados valores "
   ]
  },
  {
   "cell_type": "code",
   "execution_count": null,
   "id": "north-basket",
   "metadata": {},
   "outputs": [],
   "source": [
    "c = x[0]\n",
    "c = x[0]; d = x[2]; e = x[-1] # defino varias variables en la misma línea\n",
    "# Observe que el último término se accede con el índice -1\n",
    "# Se imprimen\n",
    "print('Accediendo a valores en el vector:')\n",
    "print(c, d, e)"
   ]
  },
  {
   "cell_type": "markdown",
   "id": "expected-matrix",
   "metadata": {},
   "source": [
    "### OPERACIONES PUNTO A PUNTO\n",
    "\n",
    "Las operaciones matemáticas entre arrays son elemento a elemento por defecto"
   ]
  },
  {
   "cell_type": "code",
   "execution_count": null,
   "id": "exempt-germany",
   "metadata": {},
   "outputs": [],
   "source": [
    "a = np.array([1,2,3,4])\n",
    "b = np.array([3,4,5,6])"
   ]
  },
  {
   "cell_type": "code",
   "execution_count": null,
   "id": "careful-peripheral",
   "metadata": {},
   "outputs": [],
   "source": [
    "print(a*b)"
   ]
  },
  {
   "cell_type": "markdown",
   "id": "major-difference",
   "metadata": {},
   "source": [
    "### EXPONENCIACION\n",
    "\n",
    "La exponenciación puede ser elemento a elemento o matricial (y en este caso hay que cuidar las dimensiones)"
   ]
  },
  {
   "cell_type": "code",
   "execution_count": null,
   "id": "phantom-saint",
   "metadata": {},
   "outputs": [],
   "source": [
    "a = np.array([[1,2],[3,4]])\n",
    "b = a**2  # el operador de exponenciacion es **(cada elemento  al cuadrado)\n",
    "c = 2**a  # matriz con 2 elevado a c/u de los elementos de la matriz\n",
    "print('matriz a: \\n', a)\n",
    "print('matriz b: \\n', b)\n",
    "print('matriz c: \\n', c)"
   ]
  },
  {
   "cell_type": "markdown",
   "id": "generous-preview",
   "metadata": {},
   "source": [
    "## OPERACIONES UTILES\n",
    "\n",
    "Redondeo: `round(x)`\n",
    "\n",
    "Truncado: `fix(x)`"
   ]
  },
  {
   "cell_type": "code",
   "execution_count": null,
   "id": "quantitative-clear",
   "metadata": {},
   "outputs": [],
   "source": [
    "x = np.array([[2.12, 3.65],[-3.17, -3.61]])\n",
    "xr1 = np.round(x)  # redondea al entero más cercano\n",
    "xr2 = np.round(x, 1)  # redondea con 1 decimal\n",
    "print('Redondeo a entero: \\n', xr1)\n",
    "print('Redondeo con 1 decimal: \\n', xr2)\n",
    "x_trunca = np.fix(x)\n",
    "print('x truncado: \\n', x_trunca)"
   ]
  },
  {
   "cell_type": "markdown",
   "id": "remarkable-bailey",
   "metadata": {},
   "source": [
    "Redondeo hacia arriba y hacia abajo:\n",
    "`floor(x)`, `ceil(x)`: Redondea los elementos de x a los enteros mas cercanos por debajo o por arriba"
   ]
  },
  {
   "cell_type": "code",
   "execution_count": null,
   "id": "foreign-afghanistan",
   "metadata": {},
   "outputs": [],
   "source": [
    "x_floor = np.floor(x)\n",
    "x_ceil = np.ceil(x)\n",
    "\n",
    "print('redondeo hacia abajo: \\n', x_floor)\n",
    "print('redondeo hacia arriba: \\n', x_ceil)"
   ]
  },
  {
   "cell_type": "markdown",
   "id": "weird-ottawa",
   "metadata": {},
   "source": [
    "Media: `np.mean(x)`\n",
    "\n",
    "Mínimo: `np.min(x)`\n",
    "\n",
    "Máximo: `np.max(x)`"
   ]
  },
  {
   "cell_type": "code",
   "execution_count": null,
   "id": "decreased-benefit",
   "metadata": {},
   "outputs": [],
   "source": [
    "media_x = np.mean(x)\n",
    "min_x = np.min(x)\n",
    "max_x = np.max(x)\n",
    "\n",
    "print('Media de x: ', media_x)\n",
    "print('Minimo de x: ', min_x)\n",
    "print('Maximo de x: ', max_x)"
   ]
  },
  {
   "cell_type": "markdown",
   "id": "purple-bacon",
   "metadata": {},
   "source": [
    "Sumatoria y producto de los elementos de x:\n",
    "\n",
    "`np.sum(x)`\n",
    "\n",
    "`np.prod(x)`"
   ]
  },
  {
   "cell_type": "code",
   "execution_count": null,
   "id": "technological-appliance",
   "metadata": {},
   "outputs": [],
   "source": [
    "sum_x = np.sum(x)\n",
    "prod_x = np.prod(x)\n",
    "\n",
    "print('Sumatoria columnas x: ', sum_x)\n",
    "print('Producto columnas x: ', prod_x)"
   ]
  },
  {
   "cell_type": "markdown",
   "id": "balanced-latest",
   "metadata": {},
   "source": [
    "★☆☆☆☆ - 1.05) Corregir el error en la siguiente sentencia:"
   ]
  },
  {
   "cell_type": "code",
   "execution_count": null,
   "id": "beneficial-string",
   "metadata": {},
   "outputs": [],
   "source": [
    "a = np.array(1, 2, 3, 4)"
   ]
  },
  {
   "cell_type": "markdown",
   "id": "867ef974",
   "metadata": {},
   "source": [
    "★☆☆☆☆ - 1.06) Convierta el vector a en una matriz de 2x2, usando la función reshape"
   ]
  },
  {
   "cell_type": "code",
   "execution_count": null,
   "id": "killing-arctic",
   "metadata": {},
   "outputs": [],
   "source": [
    "?np.reshape"
   ]
  },
  {
   "cell_type": "markdown",
   "id": "blessed-circle",
   "metadata": {},
   "source": [
    "### ESTRUCTURAS DE CONTROL DE FLUJO"
   ]
  },
  {
   "cell_type": "markdown",
   "id": "infinite-clause",
   "metadata": {},
   "source": [
    "#### Estructuras condicionales\n",
    "\n",
    "Las estructuras de control condicionales, son aquellas que nos **permiten evaluar si una o más condiciones se cumplen**, para decir qué acción vamos a ejecutar. \n",
    "\n",
    "Un ejemplo clásico es solicitar un número al usuario. Luego se analiza si este es número es > o < que cero.\n",
    "\n",
    "Usaremos la instrucción `input` que permite que el usuario ingrese elementos por teclado. **Todo** lo que ingrese será visto como un caracter o una cadena de caracteres (string). Si se espera un número entero se usa la instrucción `int`, si se espera un número real (punto flotante) se usa la instrucción `float`. Finalmente, el resultado del `input` y su conversión, se almacena en la variable `x`."
   ]
  },
  {
   "cell_type": "code",
   "execution_count": null,
   "id": "opposed-contract",
   "metadata": {},
   "outputs": [],
   "source": [
    "x = float (input('Escribe un número: '))    # Se le pide al usuario que ingrese un número.\n",
    "if x > 0:  #se pregunta por una condición cuya respuesta es True o False\n",
    "    print (x, ' es un número positivo')  # esto se ejecutaría si es True (la indentación es automática)\n",
    "else:\t\t\t# esto se ejecutaría si es False \n",
    "    print (x, ' es un número negativo')"
   ]
  },
  {
   "cell_type": "markdown",
   "id": "growing-morocco",
   "metadata": {},
   "source": [
    "#### Estructura condicional:  IF-ELSE-ELIF\n",
    "\n",
    "Si hay más de dos posibilidades se usa `elif`, en este caso se agrega una nueva condición."
   ]
  },
  {
   "cell_type": "code",
   "execution_count": null,
   "id": "necessary-hunter",
   "metadata": {},
   "outputs": [],
   "source": [
    "x = float (input('Escribe el número 1: '))\n",
    "y = float (input('Escribe el número 2: '))\n",
    "if x < y:\n",
    "    print('x es menor que y')\n",
    "elif x > y:\n",
    "    print('x es mayor que y')\n",
    "else:\n",
    "    print('x e y son iguales')"
   ]
  },
  {
   "cell_type": "markdown",
   "id": "allied-microphone",
   "metadata": {},
   "source": [
    "### Estructuras de control iterativas \n",
    "\n",
    "A diferencia de las estructuras de control condicionales, las iterativas (también llamadas cíclicas o bucles), nos **permiten ejecutar un mismo código, de manera repetida, mientras se cumpla una condición**.\n",
    "\n",
    "En Python se dispone de dos estructuras cíclicas:\n",
    "\n",
    "* El bucle `while`.\n",
    "* El bucle `for`."
   ]
  },
  {
   "cell_type": "markdown",
   "id": "starting-dress",
   "metadata": {},
   "source": [
    "#### Estructura iterativa: WHILE"
   ]
  },
  {
   "cell_type": "markdown",
   "id": "excessive-watts",
   "metadata": {},
   "source": [
    "Otra estructura que controla el flujo del programa es while, que siempre va acompañada de la verificación de una condición, ya que genera un lazo que se repite hasta que deje de cumplirse la condición. En el próximo script, se calcula el factorial de un número entero x que ingresará por teclado."
   ]
  },
  {
   "cell_type": "code",
   "execution_count": null,
   "id": "south-network",
   "metadata": {},
   "outputs": [],
   "source": [
    "x = float (input('Escribe un número'))\n",
    "x1 = x    # se almacena x en otra variable para poder usarla en el print final\n",
    "factorial=1    ## Se inicializa el resultado factorial en 1\n",
    "while x > 0:      # Hasta que x sea mayor que 0 se calcula n*(n-1) y se decrementa x\n",
    "    factorial=factorial*x\n",
    "    x= x-1\n",
    "print ('factorial de', x1,'es =', factorial)"
   ]
  },
  {
   "cell_type": "markdown",
   "id": "eastern-abuse",
   "metadata": {},
   "source": [
    "#### Estructura iterativa: FOR"
   ]
  },
  {
   "cell_type": "code",
   "execution_count": null,
   "id": "faced-honolulu",
   "metadata": {},
   "outputs": [],
   "source": [
    "x = [1,2,3,4,9,8,7,6]  # esto es una lista. Se quiere ir imprimiendo cada elemento de x y multiplicar ese elemento por 3\n",
    "i = 0\n",
    "for n in x:\n",
    "    x[i] = 3*x[i] \n",
    "    i = i+1\n",
    "    print(n) \n",
    "print(x)"
   ]
  },
  {
   "cell_type": "markdown",
   "id": "close-computer",
   "metadata": {},
   "source": [
    "### Generación de sinusoide\n",
    "Definiremos la distancia entre muestras como $ T =0.01 seg $.\n",
    "Luego construiremos un vector de tiempo entre -1 y 1, en pasos de $T$\n",
    "Finalmente generaremos una sinusoide de amplitud 2 y frecuencia de 5 Hz y la graficaremos"
   ]
  },
  {
   "cell_type": "code",
   "execution_count": null,
   "id": "compatible-gilbert",
   "metadata": {},
   "outputs": [],
   "source": [
    "import matplotlib.pyplot as plt\n",
    "\n",
    "T=0.01\n",
    "t = np.arange(-1,1+T,T)  # Se genera un vector de tiempo entre -1 y 1\n",
    "x = 2*np.sin(2*np.pi*5*t); # se genera un coseno de 5 Hz\n",
    "plt.plot(t,x,\"-r\")\n",
    "plt.grid()"
   ]
  },
  {
   "cell_type": "markdown",
   "id": "accredited-modern",
   "metadata": {},
   "source": [
    "★★☆☆☆ - 1.6) Cree un bucle for que recorra cada valor de t, dentro del mismo use un condicional (if) para hacer que la función x cambie de signo si es menor a cero para ese valor de t."
   ]
  },
  {
   "cell_type": "markdown",
   "id": "57bbf3cd",
   "metadata": {},
   "source": [
    "# Ejercicios finales"
   ]
  },
  {
   "cell_type": "markdown",
   "id": "1d59d209",
   "metadata": {},
   "source": [
    "★☆☆☆☆ - 1.07) Desarrollar un código que, dado un cierto numero, sea capaz de imprimir si es un número par o impar."
   ]
  },
  {
   "cell_type": "code",
   "execution_count": null,
   "id": "ba55a132",
   "metadata": {},
   "outputs": [],
   "source": []
  },
  {
   "cell_type": "markdown",
   "id": "844e0a2e",
   "metadata": {},
   "source": [
    "★☆☆☆☆ - 1.08) Encontrar el error en el siguiente codigo"
   ]
  },
  {
   "cell_type": "code",
   "execution_count": null,
   "id": "c0c24227",
   "metadata": {},
   "outputs": [],
   "source": [
    "numeros = [1,2,3,4,5]\n",
    "for numero in numeros\n",
    "    print(numero)"
   ]
  },
  {
   "cell_type": "markdown",
   "id": "d8d0118b",
   "metadata": {},
   "source": [
    "★★☆☆☆ - 1.09) Desarrollar un codigo que, dado un cierto numero, sea capaz de imprimir si es un número primo o no lo es. "
   ]
  },
  {
   "cell_type": "code",
   "execution_count": null,
   "id": "0e77eece",
   "metadata": {},
   "outputs": [],
   "source": []
  },
  {
   "cell_type": "markdown",
   "id": "518459e4",
   "metadata": {},
   "source": [
    "★★★☆☆ - 1.10) Dada una lista, escribir un código que pueda imprimir la lista invertida, es decir, que el último elemento pase a ser el primero, el anteúltimo pase a ser el segundo, etc."
   ]
  },
  {
   "cell_type": "code",
   "execution_count": null,
   "id": "c7d4849e",
   "metadata": {},
   "outputs": [],
   "source": []
  },
  {
   "cell_type": "markdown",
   "id": "62a21433",
   "metadata": {},
   "source": [
    "★★★★☆ - 1.11) Dado un numero entero positivo de entrada **n**, escribir la serie de fibonacci hasta el n-ésimo elemento"
   ]
  },
  {
   "cell_type": "code",
   "execution_count": null,
   "id": "86a99c2e",
   "metadata": {},
   "outputs": [],
   "source": []
  }
 ],
 "metadata": {
  "kernelspec": {
   "display_name": "Python 3 (ipykernel)",
   "language": "python",
   "name": "python3"
  },
  "language_info": {
   "codemirror_mode": {
    "name": "ipython",
    "version": 3
   },
   "file_extension": ".py",
   "mimetype": "text/x-python",
   "name": "python",
   "nbconvert_exporter": "python",
   "pygments_lexer": "ipython3",
   "version": "3.8.8"
  }
 },
 "nbformat": 4,
 "nbformat_minor": 5
}

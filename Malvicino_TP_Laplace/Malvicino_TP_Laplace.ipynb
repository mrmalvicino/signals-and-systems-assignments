{
 "cells": [
  {
   "cell_type": "markdown",
   "id": "c805041e",
   "metadata": {},
   "source": [
    "<p style='text-align: right;'> Lúnes 5 de diciembre de 2022 </p> \n",
    "<p style='text-align: right;'> Malvicino, Maximiliano Raúl </p> \n",
    "\n",
    "# Transformada de Laplace inversa\n",
    "\n",
    "Asignación de la asignatura Señales y Sistemas de la carrera Ingeniería de Sonido en Untref, a cargo de la profesora Trina Adrián Pérez.\n",
    "\n",
    "Este trabajo tiene como objetivo calcular la transformada de Laplace inversa de una función dada de manera analítica y verificar el resultado utilizando el módulo SymPy de Python."
   ]
  },
  {
   "cell_type": "markdown",
   "id": "32bcfeab",
   "metadata": {},
   "source": [
    "## Resolución en Python"
   ]
  },
  {
   "cell_type": "markdown",
   "id": "35b037d7",
   "metadata": {},
   "source": [
    "Primero se importa el módulo SymPy. A continuación se define la función F(s) que se quiere antitransformar, haciendo uso del método symbols() para definir las variables de la transformada y su inversa."
   ]
  },
  {
   "cell_type": "code",
   "execution_count": 1,
   "id": "be4e6b71",
   "metadata": {},
   "outputs": [],
   "source": [
    "from sympy import *\n",
    "\n",
    "s = symbols('s')\n",
    "t = symbols('t')\n",
    "\n",
    "F = (s-2)/(s*(s+1)**3)"
   ]
  },
  {
   "cell_type": "markdown",
   "id": "a424c68a",
   "metadata": {},
   "source": [
    "A partir del método inverse_laplace_transform() se calcula, se muestra en consola, y se grafica la transformación inversa."
   ]
  },
  {
   "cell_type": "code",
   "execution_count": 2,
   "id": "b575c585",
   "metadata": {},
   "outputs": [
    {
     "name": "stdout",
     "output_type": "stream",
     "text": [
      "f = (3*t**2 + 4*t - 4*exp(t) + 4)*exp(-t)*Heaviside(t)/2\n"
     ]
    },
    {
     "data": {
      "image/png": "[encoded data removed]",
      "text/plain": [
       "<Figure size 640x480 with 1 Axes>"
      ]
     },
     "metadata": {},
     "output_type": "display_data"
    },
    {
     "data": {
      "text/plain": [
       "<sympy.plotting.plot.Plot at 0x1b72e345b20>"
      ]
     },
     "execution_count": 2,
     "metadata": {},
     "output_type": "execute_result"
    }
   ],
   "source": [
    "f = inverse_laplace_transform(F, s, t)\n",
    "print(f'f = {f}')\n",
    "plot(f)"
   ]
  },
  {
   "cell_type": "markdown",
   "id": "a56197cf",
   "metadata": {},
   "source": [
    "## Resolución analítica"
   ]
  },
  {
   "cell_type": "markdown",
   "id": "19365279",
   "metadata": {},
   "source": [
    "Sea s complejo. La función F(s) es un cociente de polinomios cuyo numerador se anula en s=2 y cuyodenominador se anula en s=0 o s=-1. Como F(s) es derivable en un entorno abierto de cualquier punto a excepción de s=0 y s=-1, se trata de una función analítica. F(s) tiene un cero en s=2 y dos singularidades aisladas en s=0 y s=-1 que resultan ser polos de orden 1 y 3 respectivamente. Por lo tanto, para s>0 se tiene que F(s) tiene desarrollo en series de Laurent y es integrable, pudiendo aplicar la transformación de Laplace.\n",
    "\n",
    "Para esto, factorizamos F(s) por fracciones parciales haciendo uso del método apart() de SymPy."
   ]
  },
  {
   "cell_type": "code",
   "execution_count": 3,
   "id": "09c6bfde",
   "metadata": {},
   "outputs": [
    {
     "name": "stdout",
     "output_type": "stream",
     "text": [
      "F = 2/(s + 1) + 2/(s + 1)**2 + 3/(s + 1)**3 - 2/s\n"
     ]
    }
   ],
   "source": [
    "print(f'F = {apart(F)}')"
   ]
  },
  {
   "cell_type": "markdown",
   "id": "7b3f14aa",
   "metadata": {},
   "source": [
    "Así, dado que la transformación de Laplace es lineal y biyectiva, podemos expresar:\n",
    "\\begin{equation*}\n",
    "    \\mathcal{L}^{-1} (F) =\n",
    "    2 \\, \\mathcal{L}^{-1} \\left( \\frac{1}{s+1} \\right)\n",
    "    + 2 \\, \\mathcal{L}^{-1} \\left[ \\frac{1}{\\left(s+1\\right)^2} \\right]\n",
    "    + 3 \\, \\mathcal{L}^{-1} \\left[ \\frac{1}{\\left(s+1\\right)^3} \\right]\n",
    "    - 2 \\, \\mathcal{L}^{-1} \\left( \\frac{1}{s} \\right)\n",
    "\\end{equation*}\n",
    "\n",
    "Pudiendo aplicar a cada sumando la propiedad\n",
    "\\begin{equation*}\n",
    "    \\mathcal{L} \\left[ t^n \\, e^{at} \\, u(t) \\right] = \\frac{n!}{\\left(s-a\\right)^{n+1}}\n",
    "\\end{equation*}\n",
    "por tabla, para obtener\n",
    "\\begin{equation*}\n",
    "    \\mathcal{L}^{-1} (F) =\n",
    "    2 \\, e^{-t} \\, u(t)\n",
    "    + 2 \\, t \\, e^{-t} \\, u(t)\n",
    "    + \\frac{3}{2!} \\, t^2 \\, e^{-t} \\, u(t)\n",
    "    - 2 \\, u(t)\n",
    "\\end{equation*}\n",
    "\n",
    "que es equivalente al resultado calculado por Python."
   ]
  },
  {
   "cell_type": "code",
   "execution_count": null,
   "id": "28763a01",
   "metadata": {},
   "outputs": [],
   "source": []
  }
 ],
 "metadata": {
  "kernelspec": {
   "display_name": "Python 3 (ipykernel)",
   "language": "python",
   "name": "python3"
  },
  "language_info": {
   "codemirror_mode": {
    "name": "ipython",
    "version": 3
   },
   "file_extension": ".py",
   "mimetype": "text/x-python",
   "name": "python",
   "nbconvert_exporter": "python",
   "pygments_lexer": "ipython3",
   "version": "3.9.12"
  }
 },
 "nbformat": 4,
 "nbformat_minor": 5
}
